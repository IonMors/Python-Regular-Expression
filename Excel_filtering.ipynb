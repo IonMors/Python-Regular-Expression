{
 "cells": [
  {
   "cell_type": "code",
   "execution_count": 3,
   "metadata": {},
   "outputs": [],
   "source": [
    "import openpyxl"
   ]
  },
  {
   "cell_type": "code",
   "execution_count": 4,
   "metadata": {},
   "outputs": [],
   "source": [
    "workbook = openpyxl.load_workbook(r\"Employees.xlsx\")"
   ]
  },
  {
   "cell_type": "code",
   "execution_count": 5,
   "metadata": {},
   "outputs": [
    {
     "data": {
      "text/plain": [
       "['EmployeeData', 'Skills']"
      ]
     },
     "execution_count": 5,
     "metadata": {},
     "output_type": "execute_result"
    }
   ],
   "source": [
    "workbook.sheetnames"
   ]
  },
  {
   "cell_type": "code",
   "execution_count": 6,
   "metadata": {},
   "outputs": [
    {
     "data": {
      "text/plain": [
       "'A1:G21'"
      ]
     },
     "execution_count": 6,
     "metadata": {},
     "output_type": "execute_result"
    }
   ],
   "source": [
    "sheet =  workbook[\"EmployeeData\"]\n",
    "sheet.dimensions"
   ]
  },
  {
   "cell_type": "code",
   "execution_count": 7,
   "metadata": {},
   "outputs": [
    {
     "name": "stdout",
     "output_type": "stream",
     "text": [
      "('ID', 'FirstName', 'LastName', 'Department', 'Phone', 'Address', 'Salary')\n",
      "(1, 'Luke', 'Phillip', 'Sales', 5564567890, '1st Address, Miami', 25000)\n",
      "(2, 'Jack', 'Darren', 'IT', 3444567891, '2nd Address, Chicago', 33600)\n",
      "(3, 'Ken', 'Wood', 'IT', 5524567892, '3rd Address, LA', 41150)\n",
      "(4, 'John', 'Wilson', 'Marketing', 1124567893, '4th Address, Chicago', 50000)\n",
      "(5, 'Emily', 'Larson', 'Marketing', 1234567894, '5th Address, Miami', 48700)\n",
      "(6, 'Anna', 'Sullivan', 'Sales', 3324567895, '6th Address, Miami', 29000)\n",
      "(7, 'Richard', 'Smith', 'Logistics', 6894567896, '7th Address, New York', 66000)\n",
      "(8, 'Ronnie', 'Moore', 'Sales', 8974567897, '8th Address, New York', 87000)\n",
      "(9, 'Andrew', 'Drake', 'IT', 6654567898, '9th Address, Las Vegas', 66900)\n",
      "(10, 'Wayne', 'Barker', 'Logistics', 9884567899, '10th Address, Las Vegas', 89000)\n",
      "(11, 'Gina', 'Baker', 'Logistics', 1154567900, '11th Address, Chicago', 31800)\n",
      "(12, 'Andy', 'Williams', 'HR', 1094567901, '12th Address, Chicago', 65500)\n",
      "(13, 'Jack', 'Wood', 'Logistics', 2044567902, '13th Address, New York', 90300)\n",
      "(14, 'Jane', 'Phills', 'HR', 1664567903, '14th Address, New York', 77700)\n",
      "(15, 'Ron', 'Johnson', 'Sales', 1664567904, '15th Address, New York', 26250)\n",
      "(16, 'Jackie', 'Stanley', 'Sales', 6894567905, '16th Address, Las Vegas', 38400)\n",
      "(17, 'Charles', 'Meyer', 'Marketing', 1154567906, '17th Address, Las Vegas', 47000)\n",
      "(18, 'Charlie', 'Smith', 'Marketing', 9884567907, '18th Address, Las Vegas', 49000)\n",
      "(19, 'Wayne', 'Andrews', 'Sales', 3324567908, '19th Address, LA', 52000)\n",
      "(20, 'Adrian', 'Harrison', 'IT', 1234567909, '20th Address, LA', 21160)\n"
     ]
    }
   ],
   "source": [
    "for row in sheet.values:\n",
    "    print(row)"
   ]
  },
  {
   "cell_type": "code",
   "execution_count": 8,
   "metadata": {},
   "outputs": [
    {
     "data": {
      "text/plain": [
       "['ID;FirstName;LastName;Department;Phone;Address;Salary',\n",
       " '1;Luke;Phillip;Sales;5564567890;1st Address, Miami;25000',\n",
       " '2;Jack;Darren;IT;3444567891;2nd Address, Chicago;33600',\n",
       " '3;Ken;Wood;IT;5524567892;3rd Address, LA;41150',\n",
       " '4;John;Wilson;Marketing;1124567893;4th Address, Chicago;50000',\n",
       " '5;Emily;Larson;Marketing;1234567894;5th Address, Miami;48700',\n",
       " '6;Anna;Sullivan;Sales;3324567895;6th Address, Miami;29000',\n",
       " '7;Richard;Smith;Logistics;6894567896;7th Address, New York;66000',\n",
       " '8;Ronnie;Moore;Sales;8974567897;8th Address, New York;87000',\n",
       " '9;Andrew;Drake;IT;6654567898;9th Address, Las Vegas;66900',\n",
       " '10;Wayne;Barker;Logistics;9884567899;10th Address, Las Vegas;89000',\n",
       " '11;Gina;Baker;Logistics;1154567900;11th Address, Chicago;31800',\n",
       " '12;Andy;Williams;HR;1094567901;12th Address, Chicago;65500',\n",
       " '13;Jack;Wood;Logistics;2044567902;13th Address, New York;90300',\n",
       " '14;Jane;Phills;HR;1664567903;14th Address, New York;77700',\n",
       " '15;Ron;Johnson;Sales;1664567904;15th Address, New York;26250',\n",
       " '16;Jackie;Stanley;Sales;6894567905;16th Address, Las Vegas;38400',\n",
       " '17;Charles;Meyer;Marketing;1154567906;17th Address, Las Vegas;47000',\n",
       " '18;Charlie;Smith;Marketing;9884567907;18th Address, Las Vegas;49000',\n",
       " '19;Wayne;Andrews;Sales;3324567908;19th Address, LA;52000',\n",
       " '20;Adrian;Harrison;IT;1234567909;20th Address, LA;21160']"
      ]
     },
     "execution_count": 8,
     "metadata": {},
     "output_type": "execute_result"
    }
   ],
   "source": [
    "data = []\n",
    "for row in sheet.values:\n",
    "    a,b,c,d,e,f,g = row\n",
    "    data.append(\"{};{};{};{};{};{};{}\".format(a,b,c,d,e,f,g))\n",
    "\n",
    "data"
   ]
  },
  {
   "cell_type": "code",
   "execution_count": 9,
   "metadata": {},
   "outputs": [
    {
     "data": {
      "text/plain": [
       "'ID;FirstName;LastName;Department;Phone;Address;Salary\\n1;Luke;Phillip;Sales;5564567890;1st Address, Miami;25000\\n2;Jack;Darren;IT;3444567891;2nd Address, Chicago;33600\\n3;Ken;Wood;IT;5524567892;3rd Address, LA;41150\\n4;John;Wilson;Marketing;1124567893;4th Address, Chicago;50000\\n5;Emily;Larson;Marketing;1234567894;5th Address, Miami;48700\\n6;Anna;Sullivan;Sales;3324567895;6th Address, Miami;29000\\n7;Richard;Smith;Logistics;6894567896;7th Address, New York;66000\\n8;Ronnie;Moore;Sales;8974567897;8th Address, New York;87000\\n9;Andrew;Drake;IT;6654567898;9th Address, Las Vegas;66900\\n10;Wayne;Barker;Logistics;9884567899;10th Address, Las Vegas;89000\\n11;Gina;Baker;Logistics;1154567900;11th Address, Chicago;31800\\n12;Andy;Williams;HR;1094567901;12th Address, Chicago;65500\\n13;Jack;Wood;Logistics;2044567902;13th Address, New York;90300\\n14;Jane;Phills;HR;1664567903;14th Address, New York;77700\\n15;Ron;Johnson;Sales;1664567904;15th Address, New York;26250\\n16;Jackie;Stanley;Sales;6894567905;16th Address, Las Vegas;38400\\n17;Charles;Meyer;Marketing;1154567906;17th Address, Las Vegas;47000\\n18;Charlie;Smith;Marketing;9884567907;18th Address, Las Vegas;49000\\n19;Wayne;Andrews;Sales;3324567908;19th Address, LA;52000\\n20;Adrian;Harrison;IT;1234567909;20th Address, LA;21160'"
      ]
     },
     "execution_count": 9,
     "metadata": {},
     "output_type": "execute_result"
    }
   ],
   "source": [
    "employees = \"\\n\".join(data)\n",
    "employees"
   ]
  },
  {
   "cell_type": "markdown",
   "metadata": {},
   "source": [
    "<b>Question 1:</b> Get the last name of the employees whose salary is less than 30000 but at least 24000"
   ]
  },
  {
   "cell_type": "code",
   "execution_count": 17,
   "metadata": {},
   "outputs": [
    {
     "data": {
      "text/plain": [
       "['Phillip', 'Sullivan', 'Johnson']"
      ]
     },
     "execution_count": 17,
     "metadata": {},
     "output_type": "execute_result"
    }
   ],
   "source": [
    "import re\n",
    "s1 = re.findall(r\"\\d{1,};.+?;(.+?);.+?;2[4-9]\\d{3}\", employees)\n",
    "s1"
   ]
  },
  {
   "cell_type": "markdown",
   "metadata": {},
   "source": [
    "<b>Question 2:</b> Get the last names of the employees whose department is either IT or Marketing and their last name is no longer than 5 character."
   ]
  },
  {
   "cell_type": "code",
   "execution_count": 30,
   "metadata": {},
   "outputs": [
    {
     "data": {
      "text/plain": [
       "[('Wood', 'IT'),\n",
       " ('Drake', 'IT'),\n",
       " ('Meyer', 'Marketing'),\n",
       " ('Smith', 'Marketing')]"
      ]
     },
     "execution_count": 30,
     "metadata": {},
     "output_type": "execute_result"
    }
   ],
   "source": [
    "s2 = re.findall(r\"\\d{1,};.+?;(.{1,5});(IT|Marketing);.+?;\\d{5}\", employees)\n",
    "s2"
   ]
  },
  {
   "cell_type": "code",
   "execution_count": 34,
   "metadata": {},
   "outputs": [
    {
     "data": {
      "text/plain": [
       "['Wood', 'Drake', 'Meyer', 'Smith']"
      ]
     },
     "execution_count": 34,
     "metadata": {},
     "output_type": "execute_result"
    }
   ],
   "source": [
    "[i[0] for i in s2]"
   ]
  },
  {
   "cell_type": "code",
   "execution_count": 36,
   "metadata": {},
   "outputs": [
    {
     "data": {
      "text/plain": [
       "['Wood', 'Drake', 'Meyer', 'Smith']"
      ]
     },
     "execution_count": 36,
     "metadata": {},
     "output_type": "execute_result"
    }
   ],
   "source": [
    "# 2nd approach\n",
    "s2 = re.findall(r\"\\d{1,};.+?;(.{1,5});(?:IT|Marketing);.+?;\\d{5}\", employees)\n",
    "s2"
   ]
  }
 ],
 "metadata": {
  "kernelspec": {
   "display_name": "Python 3",
   "language": "python",
   "name": "python3"
  },
  "language_info": {
   "codemirror_mode": {
    "name": "ipython",
    "version": 3
   },
   "file_extension": ".py",
   "mimetype": "text/x-python",
   "name": "python",
   "nbconvert_exporter": "python",
   "pygments_lexer": "ipython3",
   "version": "3.11.1"
  }
 },
 "nbformat": 4,
 "nbformat_minor": 2
}
