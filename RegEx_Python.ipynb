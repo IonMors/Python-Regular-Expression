{
 "cells": [
  {
   "cell_type": "markdown",
   "metadata": {},
   "source": [
    "<h2> Regular Expression Using Python </h2>"
   ]
  },
  {
   "cell_type": "code",
   "execution_count": 1,
   "metadata": {},
   "outputs": [],
   "source": [
    "import re"
   ]
  },
  {
   "cell_type": "code",
   "execution_count": 2,
   "metadata": {},
   "outputs": [],
   "source": [
    "# the r at the beginning of the string is indicating a \"raw string\", we are using 'r' because when we use '\\' in a regular string it is often treated as an escape character.\n",
    "path = r\"E:\\Documents\\RegEx\" \n"
   ]
  },
  {
   "cell_type": "code",
   "execution_count": 3,
   "metadata": {},
   "outputs": [
    {
     "data": {
      "text/plain": [
       "str"
      ]
     },
     "execution_count": 3,
     "metadata": {},
     "output_type": "execute_result"
    }
   ],
   "source": [
    "string = \"The Euro STOXX 600 index, which tracks all stock markets across Europe including the FTSE, fell by 11.48% – the worst day since it launched in 1998. The panic selling prompted by the coronavirus has wiped £2.7tn off the value of STOXX 600 shares since its all-time peak on 19 February.\"\n",
    "s = r\"\\d{3}\" # to find consecutive 4 digit number\n",
    "type(s)"
   ]
  },
  {
   "cell_type": "code",
   "execution_count": 4,
   "metadata": {},
   "outputs": [
    {
     "data": {
      "text/plain": [
       "re.Pattern"
      ]
     },
     "execution_count": 4,
     "metadata": {},
     "output_type": "execute_result"
    }
   ],
   "source": [
    "t = re.compile(s)\n",
    "type(t)"
   ]
  },
  {
   "cell_type": "markdown",
   "metadata": {},
   "source": [
    "The `re.compile()` method compiles a string into a Regular expression object."
   ]
  },
  {
   "cell_type": "code",
   "execution_count": 5,
   "metadata": {},
   "outputs": [
    {
     "name": "stdout",
     "output_type": "stream",
     "text": [
      "['600', '199', '600']\n"
     ]
    }
   ],
   "source": [
    "result = re.findall(t, string)\n",
    "print(result)"
   ]
  },
  {
   "cell_type": "markdown",
   "metadata": {},
   "source": [
    "<b>The <i>`re.findall()`</i> method of the re (regular expression) module in Python is used to find all occurrences of a specified pattern in a given string, return all non-overlapping matches of pattern in string, as a list of strings. It doesn't require compilation before use like some other regular expression methods. We can use <i>`re.findall`</i> directly without needing to compile the regular expression pattern using <i>`re.compile`.</i> <b>"
   ]
  },
  {
   "cell_type": "code",
   "execution_count": 6,
   "metadata": {},
   "outputs": [
    {
     "data": {
      "text/plain": [
       "<re.Match object; span=(15, 18), match='600'>"
      ]
     },
     "execution_count": 6,
     "metadata": {},
     "output_type": "execute_result"
    }
   ],
   "source": [
    "result = re.search(r\"\\d{3}\", string)\n",
    "result"
   ]
  },
  {
   "cell_type": "markdown",
   "metadata": {},
   "source": [
    "<b>`re.search()` method either returns None (if the pattern doesn’t match), or a re.MatchObject that contains information about the matching part of the string. This method stops after the first match, so this is best suited for testing a regular expression more than extracting data.</b>"
   ]
  },
  {
   "cell_type": "code",
   "execution_count": 7,
   "metadata": {},
   "outputs": [
    {
     "data": {
      "text/plain": [
       "<re.Match object; span=(0, 3), match='The'>"
      ]
     },
     "execution_count": 7,
     "metadata": {},
     "output_type": "execute_result"
    }
   ],
   "source": [
    "result = re.match(r\"\\w{3}\", string)\n",
    "result"
   ]
  },
  {
   "cell_type": "markdown",
   "metadata": {},
   "source": [
    "<b>This function only checks for a match at the beginning of the string. This means that `re. match()` will return the match found in the first line of the string, but not those found in any other line, in which case it will return null .</b>"
   ]
  },
  {
   "cell_type": "code",
   "execution_count": 8,
   "metadata": {},
   "outputs": [
    {
     "data": {
      "text/plain": [
       "<re.Match object; span=(0, 285), match='The Euro STOXX 600 index, which tracks all stock >"
      ]
     },
     "execution_count": 8,
     "metadata": {},
     "output_type": "execute_result"
    }
   ],
   "source": [
    "#this command will look for 285 characters, except for a new line '\\n'.\n",
    "result = re.fullmatch(r\".{285}\", string) \n",
    "\n",
    "result"
   ]
  },
  {
   "cell_type": "markdown",
   "metadata": {},
   "source": [
    "<b><u><i>Syntax: -</u> `re.fullmatch(pattern, string, flags=0)`</i><br>\n",
    "`re.fullmatch()` returns a match object if and only if the `entire string` matches the pattern. Otherwise, it will return None. The flag at the end is optional and can be used to ignore cases etc. </b>"
   ]
  },
  {
   "cell_type": "code",
   "execution_count": 9,
   "metadata": {},
   "outputs": [
    {
     "name": "stdout",
     "output_type": "stream",
     "text": [
      "['600', '199', '600']\n"
     ]
    }
   ],
   "source": [
    "#this command will look for 3 digit numbers\n",
    "result = re.findall(r\"\\d{3}\", string)  \n",
    "\n",
    "print(result)"
   ]
  },
  {
   "cell_type": "markdown",
   "metadata": {},
   "source": [
    "The <b>`findall()`</b> method is used to find all non-overlapping matches of a pattern in a string. The string is scanned left-to-right, and matches are returned in the order found."
   ]
  },
  {
   "cell_type": "code",
   "execution_count": 10,
   "metadata": {},
   "outputs": [
    {
     "name": "stdout",
     "output_type": "stream",
     "text": [
      "['The', 'Euro', 'STOXX', '600', 'index,', 'which', 'tracks', 'all', 'stock', 'markets', 'across', 'Europe', 'including', 'the', 'FTSE,', 'fell', 'by', '11.48%', '–', 'the', 'worst', 'day', 'since', 'it', 'launched', 'in', '1998.', 'The', 'panic', 'selling', 'prompted', 'by', 'the', 'coronavirus', 'has', 'wiped', '£2.7tn', 'off', 'the', 'value', 'of', 'STOXX', '600', 'shares', 'since', 'its', 'all-time', 'peak', 'on', '19', 'February.']\n"
     ]
    }
   ],
   "source": [
    "result = string.split(\" \")\n",
    "print(result)"
   ]
  },
  {
   "cell_type": "code",
   "execution_count": 11,
   "metadata": {},
   "outputs": [
    {
     "name": "stdout",
     "output_type": "stream",
     "text": [
      "['The', 'Euro', 'STOXX', '600', 'index,', 'which', 'tracks', 'all', 'stock', 'markets', 'across', 'Europe', 'including', 'the', 'FTSE,', 'fell', 'by', '11.48%', '–', 'the', 'worst', 'day', 'since', 'it', 'launched', 'in', '1998.', 'The', 'panic', 'selling', 'prompted', 'by', 'the', 'coronavirus', 'has', 'wiped', '£2.7tn', 'off', 'the', 'value', 'of', 'STOXX', '600', 'shares', 'since', 'its', 'all-time', 'peak', 'on', '19', 'February.']\n"
     ]
    }
   ],
   "source": [
    "# \\s matches for one or more whitespace characters, such as spaces, tabs and newlines\n",
    "result = re.split(\"\\s\", string) \n",
    "\n",
    "print(result)"
   ]
  },
  {
   "cell_type": "markdown",
   "metadata": {},
   "source": [
    "The `re.split()` function in Python is used to split a string based on the occurrences of a regular expression pattern. The function takes two arguments: the regular expression pattern and the string to be split."
   ]
  },
  {
   "cell_type": "code",
   "execution_count": 12,
   "metadata": {},
   "outputs": [
    {
     "data": {
      "text/plain": [
       "'The Euro INDEX 600 index, which tracks all stock markets across Europe including the INDEX, fell by 11.48% – the worst day since it launched in 1998. The panic selling prompted by the coronavirus has wiped £2.7tn off the value of INDEX 600 shares since its all-time peak on 19 February.'"
      ]
     },
     "execution_count": 12,
     "metadata": {},
     "output_type": "execute_result"
    }
   ],
   "source": [
    " # here we are replacing all the word, with word length of 2 or more with all capital letters in it, with the word INDEX\n",
    "result = re.sub(r\"[A-Z]{2,}\", \"INDEX\", string)\n",
    "\n",
    "result"
   ]
  },
  {
   "cell_type": "code",
   "execution_count": 13,
   "metadata": {},
   "outputs": [
    {
     "data": {
      "text/plain": [
       "'The Euro INDEX 600 index, which tracks all stock markets across Europe including the INDEX, fell by 11.48% – the worst day since it launched in 1998. The panic selling prompted by the coronavirus has wiped £2.7tn off the value of STOXX 600 shares since its all-time peak on 19 February.'"
      ]
     },
     "execution_count": 13,
     "metadata": {},
     "output_type": "execute_result"
    }
   ],
   "source": [
    "# here we are doing the same as above but only changing the first 2 occurrences only\n",
    "result = re.sub(r\"[A-Z]{2,}\", \"INDEX\", string, 2)\n",
    "\n",
    "result"
   ]
  },
  {
   "cell_type": "markdown",
   "metadata": {},
   "source": [
    "The `re.sub()` function in Python is used to substitute a string for all occurrences of a regular expression pattern in another string. The function takes three arguments: <i>the regular expression pattern, the replacement string, and the string to be searched</i>.\n",
    "\n",
    "The full syntax of the re.sub() function is as follows:<br>\n",
    "<b>re.sub(pattern, repl, string, count=0, flags=0)</b>\n",
    "<br><br>\n",
    "<i><b>pattern:</b> The regular expression pattern to be searched for.<br>\n",
    "<b>repl:</b> The replacement string.<br>\n",
    "<b>string:</b> The string to be searched.<br>\n",
    "<b>count:</b> The maximum number of replacements to make. If count is 0 (the default), then all occurrences of the pattern will be replaced.<br>\n",
    "<b>flags:</b> A set of flags that modify the behavior of the regular expression pattern.<i><br>"
   ]
  },
  {
   "cell_type": "code",
   "execution_count": 14,
   "metadata": {},
   "outputs": [
    {
     "data": {
      "text/plain": [
       "('The Euro INDEX 600 index, which tracks all stock markets across Europe including the INDEX, fell by 11.48% – the worst day since it launched in 1998. The panic selling prompted by the coronavirus has wiped £2.7tn off the value of INDEX 600 shares since its all-time peak on 19 February.',\n",
       " 3)"
      ]
     },
     "execution_count": 14,
     "metadata": {},
     "output_type": "execute_result"
    }
   ],
   "source": [
    "result = re.subn(r\"[A-Z]{2,}\", \"INDEX\", string)\n",
    "\n",
    "result"
   ]
  },
  {
   "cell_type": "markdown",
   "metadata": {},
   "source": [
    "The `re.subn()` function returns a <i><b>tuple</b></i> of two elements: the new string and the number of replacements that were made.\n"
   ]
  },
  {
   "cell_type": "code",
   "execution_count": 15,
   "metadata": {},
   "outputs": [
    {
     "data": {
      "text/plain": [
       "('index', '19 February')"
      ]
     },
     "execution_count": 15,
     "metadata": {},
     "output_type": "execute_result"
    }
   ],
   "source": [
    "# here we are trying to find two different pattern, one that ends with 'ex' and second one that starts with 2 digits followed with multiple characters\n",
    "result = re.search(r\".+\\s(.+ex).+(\\d\\d\\s.+).\", string)\n",
    "result.groups()"
   ]
  },
  {
   "cell_type": "markdown",
   "metadata": {},
   "source": [
    "The `groups()` method in Python is used to return a tuple of all the captured groups in a regular expression match. A captured group is a part of the regular expression pattern that is enclosed in parentheses. The `groups()` method returns a tuple of strings, where each string is the text that matched the corresponding captured group.<br>\n",
    "\n",
    "Here is a breakdown of the pattern:<br><br>\n",
    "\n",
    "`.+` : Matches any character one or more times.<br>\n",
    "`\\s` : Matches a whitespace character.<br>\n",
    "`(.+ex)` : Matches any sequence of characters that does not include a newline character, and the . character matches any character. The + character matches the preceding character one or more times. The ex part is a literal match for the letters \"ex\".<br>\n",
    "`(\\d\\d\\s.+)` : Matches a sequence of two digits followed by a whitespace character and any sequence of characters. The \\d character matches a digit. The + character matches the preceding character one or more times.<br>"
   ]
  },
  {
   "cell_type": "code",
   "execution_count": 16,
   "metadata": {},
   "outputs": [
    {
     "data": {
      "text/plain": [
       "'index'"
      ]
     },
     "execution_count": 16,
     "metadata": {},
     "output_type": "execute_result"
    }
   ],
   "source": [
    "# in the group the numbering start from 1, 1 represent the first matched pattern from groups method and so on\n",
    "result.group(1)"
   ]
  },
  {
   "cell_type": "code",
   "execution_count": 17,
   "metadata": {},
   "outputs": [
    {
     "data": {
      "text/plain": [
       "'19 February'"
      ]
     },
     "execution_count": 17,
     "metadata": {},
     "output_type": "execute_result"
    }
   ],
   "source": [
    "result.group(2)"
   ]
  },
  {
   "cell_type": "code",
   "execution_count": 18,
   "metadata": {},
   "outputs": [
    {
     "data": {
      "text/plain": [
       "[('index', '19 February')]"
      ]
     },
     "execution_count": 18,
     "metadata": {},
     "output_type": "execute_result"
    }
   ],
   "source": [
    "result = re.findall(r\".+\\s(.+ex).+(\\d\\d\\s.+).\", string)\n",
    "result"
   ]
  },
  {
   "cell_type": "markdown",
   "metadata": {},
   "source": [
    "So by using `findall` we are getting the same result, but we won't be able to use the `group()` and `groups()` method on this."
   ]
  },
  {
   "cell_type": "code",
   "execution_count": 19,
   "metadata": {},
   "outputs": [
    {
     "data": {
      "text/plain": [
       "['19 February']"
      ]
     },
     "execution_count": 19,
     "metadata": {},
     "output_type": "execute_result"
    }
   ],
   "source": [
    "result = re.findall(r\"\\s(\\d\\d\\s.+).\", string)\n",
    "result"
   ]
  },
  {
   "cell_type": "code",
   "execution_count": 20,
   "metadata": {},
   "outputs": [
    {
     "data": {
      "text/plain": [
       "('index', '19 February')"
      ]
     },
     "execution_count": 20,
     "metadata": {},
     "output_type": "execute_result"
    }
   ],
   "source": [
    "# revised version of the above command\n",
    "result = re.search(r\"(\\w+ex).+(\\d\\d\\s.+).\", string)\n",
    "\n",
    "result.groups()"
   ]
  },
  {
   "cell_type": "code",
   "execution_count": 21,
   "metadata": {},
   "outputs": [
    {
     "data": {
      "text/plain": [
       "19"
      ]
     },
     "execution_count": 21,
     "metadata": {},
     "output_type": "execute_result"
    }
   ],
   "source": [
    "result.start(1)"
   ]
  },
  {
   "cell_type": "code",
   "execution_count": 22,
   "metadata": {},
   "outputs": [
    {
     "data": {
      "text/plain": [
       "273"
      ]
     },
     "execution_count": 22,
     "metadata": {},
     "output_type": "execute_result"
    }
   ],
   "source": [
    "result.start(2)"
   ]
  },
  {
   "cell_type": "markdown",
   "metadata": {},
   "source": [
    "`start()` method in conjunction with capturing groups to find the starting position of a matched substring for a specific group within a regular expression match. This method is useful when you want to know where a particular capturing group's match begins within the input string."
   ]
  },
  {
   "cell_type": "code",
   "execution_count": 23,
   "metadata": {},
   "outputs": [
    {
     "data": {
      "text/plain": [
       "['The', 'the', 'the', 'The', 'the', 'the']"
      ]
     },
     "execution_count": 23,
     "metadata": {},
     "output_type": "execute_result"
    }
   ],
   "source": [
    "result = re.findall(r\"the\", string, re.I)\n",
    "result"
   ]
  },
  {
   "cell_type": "markdown",
   "metadata": {},
   "source": [
    "`re.I (re.IGNORECASE):`<br>\n",
    "\n",
    "This flag makes the regular expression matching case-insensitive. It allows the regex pattern to match both uppercase and lowercase letters without distinction."
   ]
  },
  {
   "cell_type": "code",
   "execution_count": 24,
   "metadata": {},
   "outputs": [
    {
     "data": {
      "text/plain": [
       "<re.Match object; span=(0, 6), match='Hello '>"
      ]
     },
     "execution_count": 24,
     "metadata": {},
     "output_type": "execute_result"
    }
   ],
   "source": [
    "string2 = \"Hello \\n Python\"\n",
    "result = re.search(r\".+\", string2)\n",
    "result"
   ]
  },
  {
   "cell_type": "code",
   "execution_count": 25,
   "metadata": {},
   "outputs": [
    {
     "data": {
      "text/plain": [
       "<re.Match object; span=(0, 14), match='Hello \\n Python'>"
      ]
     },
     "execution_count": 25,
     "metadata": {},
     "output_type": "execute_result"
    }
   ],
   "source": [
    "string2 = \"Hello \\n Python\"\n",
    "result = re.search(r\".+\", string2, re.S)\n",
    "result"
   ]
  },
  {
   "cell_type": "markdown",
   "metadata": {},
   "source": [
    "`re.S (re.DOTALL):`<br>\n",
    "\n",
    "By default, the `.` metacharacter in regular expressions matches any character except a newline `(\\n)`. However, when you use the `re.S` flag, it allows the `.` to match newline characters as well."
   ]
  },
  {
   "cell_type": "code",
   "execution_count": 26,
   "metadata": {},
   "outputs": [
    {
     "data": {
      "text/plain": [
       "('index', '19 February')"
      ]
     },
     "execution_count": 26,
     "metadata": {},
     "output_type": "execute_result"
    }
   ],
   "source": [
    "result = re.search(r\"\"\".+\\s #Beginning of the string\n",
    "                   (.+ex) # Searching for index\n",
    "                   .+(\\d\\d\\s.+). #Date at the end\"\"\", string, re.X)\n",
    "result.groups()"
   ]
  },
  {
   "cell_type": "markdown",
   "metadata": {},
   "source": []
  },
  {
   "cell_type": "markdown",
   "metadata": {},
   "source": [
    "`re.X (re.VERBOSE):`<br>\n",
    "\n",
    "The re.X flag allows you to write regular expressions in a more human-readable and organized way. It ignores whitespace and treats # as a comment character within the pattern."
   ]
  },
  {
   "cell_type": "code",
   "execution_count": 27,
   "metadata": {},
   "outputs": [
    {
     "data": {
      "text/plain": [
       "'The Euro STOXX 600 index, which tracks all stock markets across Europe including the FTSE, fell by 11.48% – the worst day since it launched in 1998. The panic selling prompted by the coronavirus has wiped £2.7tn off the value of STOXX 600 shares since its all-time peak on 19 February.'"
      ]
     },
     "execution_count": 27,
     "metadata": {},
     "output_type": "execute_result"
    }
   ],
   "source": [
    "result = re.search(r\"(.+)\", string)\n",
    "result.group()"
   ]
  },
  {
   "cell_type": "markdown",
   "metadata": {},
   "source": [
    "`r\"(.+)\"`: This is the regular expression pattern we are searching for within the string. <br>\n",
    "<br>\n",
    "`.`: Matches any character except a newline character.<br>\n",
    "`+`: Matches <b>one or more</b> of the preceding element. So, `.+` matches one or more of any character.<br>\n",
    "`(` and `)`: Parentheses are used to create a capturing group. In this case, `(.+)` captures one or more of any character."
   ]
  },
  {
   "cell_type": "code",
   "execution_count": 28,
   "metadata": {},
   "outputs": [
    {
     "data": {
      "text/plain": [
       "<re.Match object; span=(0, 3), match='The'>"
      ]
     },
     "execution_count": 28,
     "metadata": {},
     "output_type": "execute_result"
    }
   ],
   "source": [
    "result = re.search(r\"^\\w{3}\", string)\n",
    "result"
   ]
  },
  {
   "cell_type": "code",
   "execution_count": 29,
   "metadata": {},
   "outputs": [],
   "source": [
    "string = \"The Euro STOXX 600 index, which tracks all stock markets across Europe including the FTSE, fell by 11.48% – the worst day since it launched in 1998.\\nThe panic selling prompted by the coronavirus has wiped £2.7tn off the value of STOXX 600 shares since its all-time peak on 19 February.\""
   ]
  },
  {
   "cell_type": "code",
   "execution_count": 30,
   "metadata": {},
   "outputs": [
    {
     "name": "stdout",
     "output_type": "stream",
     "text": [
      "The Euro STOXX 600 index, which tracks all stock markets across Europe including the FTSE, fell by 11.48% – the worst day since it launched in 1998.\n",
      "The panic selling prompted by the coronavirus has wiped £2.7tn off the value of STOXX 600 shares since its all-time peak on 19 February.\n"
     ]
    }
   ],
   "source": [
    "print(string)"
   ]
  },
  {
   "cell_type": "code",
   "execution_count": 31,
   "metadata": {},
   "outputs": [
    {
     "data": {
      "text/plain": [
       "['The', 'The']"
      ]
     },
     "execution_count": 31,
     "metadata": {},
     "output_type": "execute_result"
    }
   ],
   "source": [
    "# here we are searching for 3 letter word at the beginning of the sentence\n",
    "result = re.findall(r\"^\\w{3}\", string, re.M)\n",
    "result"
   ]
  },
  {
   "cell_type": "markdown",
   "metadata": {},
   "source": [
    "`^`  is called a metacharacter and serves as an anchor that specifies the start of a line or string. The <b>caret</b> `(^)` is used to match a pattern only if it appears at the beginning of a line or the start of the entire input string, depending on the context in which it is used.<br><br>\n",
    "`re.M (or re.MULTILINE)`: This flag specifies that the `^` anchor should match the <i>start of each line within the input string</i>, rather than just the start of the entire string. It makes the regex pattern operate in \"multi-line\" mode."
   ]
  },
  {
   "cell_type": "code",
   "execution_count": 32,
   "metadata": {},
   "outputs": [
    {
     "data": {
      "text/plain": [
       "['1998', 'February']"
      ]
     },
     "execution_count": 32,
     "metadata": {},
     "output_type": "execute_result"
    }
   ],
   "source": [
    "# here we are searching for a word that consist of at least 2 character(letter, digit or underscore) at the end of each line\n",
    "result = re.findall(r\"\\s(\\w{2,})\\W$\", string, re.M)\n",
    "result"
   ]
  },
  {
   "cell_type": "markdown",
   "metadata": {},
   "source": [
    "`r\"\\s(\\w{2,})\\W$\"`: This is the regular expression pattern that we are searching for:<br><br>\n",
    "\n",
    "`\\s`: Matches a whitespace character (space, tab, newline, etc.).<br>\n",
    "\n",
    "`(\\w{2,})`: This is a capturing group that matches two or more word characters. The `\\w` matches word characters, and `{2,}` specifies that there should be at least two or more consecutive word characters. The parentheses `( )` indicate a capturing group, which allows you to extract the matched word.\n",
    "\n",
    "`\\W`: Matches a non-word character (anything that is not a word character).\n",
    "\n",
    "`$`: Anchors the pattern to the end of a line."
   ]
  },
  {
   "cell_type": "code",
   "execution_count": 33,
   "metadata": {},
   "outputs": [
    {
     "data": {
      "text/plain": [
       "['600', '11', '48', '1998', '600', '19']"
      ]
     },
     "execution_count": 33,
     "metadata": {},
     "output_type": "execute_result"
    }
   ],
   "source": [
    "# here we trying to find a minimum of two digit number upto possible matches, the third digit is optional\n",
    "result = re.findall(r\"\\d\\d\\d*\", string)\n",
    "result   "
   ]
  },
  {
   "cell_type": "code",
   "execution_count": 34,
   "metadata": {},
   "outputs": [
    {
     "data": {
      "text/plain": [
       "['Euro STOXX 600 index, which tracks all stock markets across Europe including the FTSE, fell by 11.48% – the worst day since it launched in ']"
      ]
     },
     "execution_count": 34,
     "metadata": {},
     "output_type": "execute_result"
    }
   ],
   "source": [
    "result = re.findall(r\"E.* \", string)\n",
    "result"
   ]
  },
  {
   "cell_type": "markdown",
   "metadata": {},
   "source": [
    "`r\"E.* \"`: This is the regular expression pattern that we are searching for:\n",
    "\n",
    "`E`: Matches the character 'E' literally.\n",
    "\n",
    "`.*`: Matches zero or more of any character (. matches any character, and `* matches zero or more of the preceding element`).\n",
    "\n",
    "`\" \"`: Matches a space character."
   ]
  },
  {
   "cell_type": "code",
   "execution_count": 35,
   "metadata": {},
   "outputs": [
    {
     "data": {
      "text/plain": [
       "['Euro', 'Europe', 'E']"
      ]
     },
     "execution_count": 35,
     "metadata": {},
     "output_type": "execute_result"
    }
   ],
   "source": [
    "result = re.findall(r\"E\\w*\", string)\n",
    "result"
   ]
  },
  {
   "cell_type": "markdown",
   "metadata": {},
   "source": [
    " The asterisk `(*)` is a metacharacter that has a special meaning. It is used to specify that the preceding element (character or group) can occur zero or more times. In other words, it quantifies the preceding element as <b>\"zero or more occurrences.\"</b>"
   ]
  },
  {
   "cell_type": "code",
   "execution_count": 36,
   "metadata": {},
   "outputs": [
    {
     "data": {
      "text/plain": [
       "['600', '11', '48', '199', '600', '19']"
      ]
     },
     "execution_count": 36,
     "metadata": {},
     "output_type": "execute_result"
    }
   ],
   "source": [
    "# here we are searching for 2 digit number where the 3rd one can be optional\n",
    "result = re.findall(r\"\\d\\d\\d?\", string)\n",
    "result"
   ]
  },
  {
   "cell_type": "markdown",
   "metadata": {},
   "source": [
    "`(?)` is a metacharacter in regular expressions with special meaning. <br> It is used to specify that the <b>preceding element</b> in the regex pattern is <b>optional<b>, meaning it can occur <b><i>zero times or one time (at most)</i></b>. "
   ]
  },
  {
   "cell_type": "code",
   "execution_count": 37,
   "metadata": {},
   "outputs": [
    {
     "data": {
      "text/plain": [
       "['E, ']"
      ]
     },
     "execution_count": 37,
     "metadata": {},
     "output_type": "execute_result"
    }
   ],
   "source": [
    "result = re.findall(r\"E.? \", string)\n",
    "result"
   ]
  },
  {
   "cell_type": "code",
   "execution_count": 38,
   "metadata": {},
   "outputs": [
    {
     "data": {
      "text/plain": [
       "['Eu', 'Eu', 'E']"
      ]
     },
     "execution_count": 38,
     "metadata": {},
     "output_type": "execute_result"
    }
   ],
   "source": [
    "result = re.findall(r\"E\\w?\", string)\n",
    "result"
   ]
  },
  {
   "cell_type": "code",
   "execution_count": 39,
   "metadata": {},
   "outputs": [
    {
     "data": {
      "text/plain": [
       "['600', '11', '48', '1998', '600', '19']"
      ]
     },
     "execution_count": 39,
     "metadata": {},
     "output_type": "execute_result"
    }
   ],
   "source": [
    "result = re.findall(r\"\\d\\d\\d*\", string)\n",
    "result"
   ]
  },
  {
   "cell_type": "code",
   "execution_count": 40,
   "metadata": {},
   "outputs": [
    {
     "data": {
      "text/plain": [
       "['60', '11', '48', '19', '98', '60', '19']"
      ]
     },
     "execution_count": 40,
     "metadata": {},
     "output_type": "execute_result"
    }
   ],
   "source": [
    "result = re.findall(r\"\\d\\d\\d*?\", string)\n",
    "result"
   ]
  },
  {
   "cell_type": "markdown",
   "metadata": {},
   "source": [
    "If we look the above two example, we are seeing a `greedy` (1st example) and a `non-greedy` (2nd example) code.<br> In the 2nd one we are using `'*?'` to limit it to find the minimum no.of times possible."
   ]
  },
  {
   "cell_type": "code",
   "execution_count": 41,
   "metadata": {},
   "outputs": [
    {
     "data": {
      "text/plain": [
       "['600', '1998', '600']"
      ]
     },
     "execution_count": 41,
     "metadata": {},
     "output_type": "execute_result"
    }
   ],
   "source": [
    "result = re.findall(r\"\\d\\d\\d+\", string)\n",
    "result"
   ]
  },
  {
   "cell_type": "code",
   "execution_count": 42,
   "metadata": {},
   "outputs": [
    {
     "data": {
      "text/plain": [
       "['600', '199', '600']"
      ]
     },
     "execution_count": 42,
     "metadata": {},
     "output_type": "execute_result"
    }
   ],
   "source": [
    "# this is also a non-greedy example, where we are getting the minimum digits possible\n",
    "result = re.findall(r\"\\d\\d\\d+?\", string)\n",
    "result"
   ]
  },
  {
   "cell_type": "code",
   "execution_count": 43,
   "metadata": {},
   "outputs": [
    {
     "data": {
      "text/plain": [
       "['x', 'w', 'k', 'k', 'k', 'w', 'w', 'k']"
      ]
     },
     "execution_count": 43,
     "metadata": {},
     "output_type": "execute_result"
    }
   ],
   "source": [
    "result = re.findall(r\"[wxkq]\", string)\n",
    "result"
   ]
  },
  {
   "cell_type": "markdown",
   "metadata": {},
   "source": [
    "Here we are using square bracket `[]` with the characters in it we want to search for, the opertion it's performing on it is `OR` which mean look for `w` OR `x` OR `k` OR `q`.<br>The result we will have will be a list of the characters."
   ]
  },
  {
   "cell_type": "code",
   "execution_count": 44,
   "metadata": {},
   "outputs": [
    {
     "data": {
      "text/plain": [
       "['h',\n",
       " 'e',\n",
       " 'o',\n",
       " 'i',\n",
       " 'n',\n",
       " 'd',\n",
       " 'e',\n",
       " 'h',\n",
       " 'i',\n",
       " 'c',\n",
       " 'h',\n",
       " 'a',\n",
       " 'c',\n",
       " 'k',\n",
       " 'a',\n",
       " 'l',\n",
       " 'l',\n",
       " 'o',\n",
       " 'c',\n",
       " 'k',\n",
       " 'm',\n",
       " 'a',\n",
       " 'k',\n",
       " 'e',\n",
       " 'a',\n",
       " 'c',\n",
       " 'o',\n",
       " 'o',\n",
       " 'p',\n",
       " 'e',\n",
       " 'i',\n",
       " 'n',\n",
       " 'c',\n",
       " 'l',\n",
       " 'd',\n",
       " 'i',\n",
       " 'n',\n",
       " 'g',\n",
       " 'h',\n",
       " 'e',\n",
       " 'f',\n",
       " 'e',\n",
       " 'l',\n",
       " 'l',\n",
       " 'b',\n",
       " 'h',\n",
       " 'e',\n",
       " 'o',\n",
       " 'd',\n",
       " 'a',\n",
       " 'i',\n",
       " 'n',\n",
       " 'c',\n",
       " 'e',\n",
       " 'i',\n",
       " 'l',\n",
       " 'a',\n",
       " 'n',\n",
       " 'c',\n",
       " 'h',\n",
       " 'e',\n",
       " 'd',\n",
       " 'i',\n",
       " 'n',\n",
       " 'h',\n",
       " 'e',\n",
       " 'p',\n",
       " 'a',\n",
       " 'n',\n",
       " 'i',\n",
       " 'c',\n",
       " 'e',\n",
       " 'l',\n",
       " 'l',\n",
       " 'i',\n",
       " 'n',\n",
       " 'g',\n",
       " 'p',\n",
       " 'o',\n",
       " 'm',\n",
       " 'p',\n",
       " 'e',\n",
       " 'd',\n",
       " 'b',\n",
       " 'h',\n",
       " 'e',\n",
       " 'c',\n",
       " 'o',\n",
       " 'o',\n",
       " 'n',\n",
       " 'a',\n",
       " 'i',\n",
       " 'h',\n",
       " 'a',\n",
       " 'i',\n",
       " 'p',\n",
       " 'e',\n",
       " 'd',\n",
       " 'n',\n",
       " 'o',\n",
       " 'f',\n",
       " 'f',\n",
       " 'h',\n",
       " 'e',\n",
       " 'a',\n",
       " 'l',\n",
       " 'e',\n",
       " 'o',\n",
       " 'f',\n",
       " 'h',\n",
       " 'a',\n",
       " 'e',\n",
       " 'i',\n",
       " 'n',\n",
       " 'c',\n",
       " 'e',\n",
       " 'i',\n",
       " 'a',\n",
       " 'l',\n",
       " 'l',\n",
       " 'i',\n",
       " 'm',\n",
       " 'e',\n",
       " 'p',\n",
       " 'e',\n",
       " 'a',\n",
       " 'k',\n",
       " 'o',\n",
       " 'n',\n",
       " 'e',\n",
       " 'b',\n",
       " 'a']"
      ]
     },
     "execution_count": 44,
     "metadata": {},
     "output_type": "execute_result"
    }
   ],
   "source": [
    "result = re.findall(r\"[a-q]\", string)\n",
    "result"
   ]
  },
  {
   "cell_type": "code",
   "execution_count": 45,
   "metadata": {},
   "outputs": [
    {
     "data": {
      "text/plain": [
       "['1', '1', '4', '1', '2', '1']"
      ]
     },
     "execution_count": 45,
     "metadata": {},
     "output_type": "execute_result"
    }
   ],
   "source": [
    "result = re.findall(r\"[1-5]\", string)\n",
    "result"
   ]
  },
  {
   "cell_type": "code",
   "execution_count": 46,
   "metadata": {},
   "outputs": [
    {
     "data": {
      "text/plain": [
       "['de',\n",
       " 'ch',\n",
       " 'ac',\n",
       " 'al',\n",
       " 'ck',\n",
       " 'ar',\n",
       " 'et',\n",
       " 'ac',\n",
       " 'cl',\n",
       " 'di',\n",
       " 'fe',\n",
       " 'ce',\n",
       " 'au',\n",
       " 'ch',\n",
       " 'ed',\n",
       " 'an',\n",
       " 'el',\n",
       " 'ed',\n",
       " 'co',\n",
       " 'av',\n",
       " 'as',\n",
       " 'ed',\n",
       " 'ff',\n",
       " 'al',\n",
       " 'ar',\n",
       " 'es',\n",
       " 'ce',\n",
       " 'al',\n",
       " 'ak',\n",
       " 'br',\n",
       " 'ar']"
      ]
     },
     "execution_count": 46,
     "metadata": {},
     "output_type": "execute_result"
    }
   ],
   "source": [
    "# we are looking for two consecutive letter, 1st character which lies within a-f, and for the 2nd character c-w\n",
    "result = re.findall(r\"[a-f][c-w]\", string)\n",
    "result"
   ]
  },
  {
   "cell_type": "code",
   "execution_count": 47,
   "metadata": {},
   "outputs": [
    {
     "data": {
      "text/plain": [
       "['T',\n",
       " 'h',\n",
       " 'e',\n",
       " ' ',\n",
       " 'E',\n",
       " 'u',\n",
       " 'r',\n",
       " 'o',\n",
       " ' ',\n",
       " 'S',\n",
       " 'T',\n",
       " 'O',\n",
       " ' ',\n",
       " '6',\n",
       " '0',\n",
       " '0',\n",
       " ' ',\n",
       " 'i',\n",
       " 'n',\n",
       " 'd',\n",
       " 'e',\n",
       " 'x',\n",
       " ',',\n",
       " ' ',\n",
       " 'w',\n",
       " 'h',\n",
       " 'i',\n",
       " 'c',\n",
       " 'h',\n",
       " ' ',\n",
       " 't',\n",
       " 'r',\n",
       " 'a',\n",
       " 'c',\n",
       " 'k',\n",
       " 's',\n",
       " ' ',\n",
       " 'a',\n",
       " 'l',\n",
       " 'l',\n",
       " ' ',\n",
       " 's',\n",
       " 't',\n",
       " 'o',\n",
       " 'c',\n",
       " 'k',\n",
       " ' ',\n",
       " 'm',\n",
       " 'a',\n",
       " 'r',\n",
       " 'k',\n",
       " 'e',\n",
       " 't',\n",
       " 's',\n",
       " ' ',\n",
       " 'a',\n",
       " 'c',\n",
       " 'r',\n",
       " 'o',\n",
       " 's',\n",
       " 's',\n",
       " ' ',\n",
       " 'E',\n",
       " 'u',\n",
       " 'r',\n",
       " 'o',\n",
       " 'p',\n",
       " 'e',\n",
       " ' ',\n",
       " 'i',\n",
       " 'n',\n",
       " 'c',\n",
       " 'l',\n",
       " 'u',\n",
       " 'd',\n",
       " 'i',\n",
       " 'n',\n",
       " 'g',\n",
       " ' ',\n",
       " 't',\n",
       " 'h',\n",
       " 'e',\n",
       " ' ',\n",
       " 'F',\n",
       " 'T',\n",
       " 'S',\n",
       " 'E',\n",
       " ',',\n",
       " ' ',\n",
       " 'f',\n",
       " 'e',\n",
       " 'l',\n",
       " 'l',\n",
       " ' ',\n",
       " 'b',\n",
       " 'y',\n",
       " ' ',\n",
       " '1',\n",
       " '1',\n",
       " '.',\n",
       " '4',\n",
       " '8',\n",
       " '%',\n",
       " ' ',\n",
       " '–',\n",
       " ' ',\n",
       " 't',\n",
       " 'h',\n",
       " 'e',\n",
       " ' ',\n",
       " 'w',\n",
       " 'o',\n",
       " 'r',\n",
       " 's',\n",
       " 't',\n",
       " ' ',\n",
       " 'd',\n",
       " 'a',\n",
       " 'y',\n",
       " ' ',\n",
       " 's',\n",
       " 'i',\n",
       " 'n',\n",
       " 'c',\n",
       " 'e',\n",
       " ' ',\n",
       " 'i',\n",
       " 't',\n",
       " ' ',\n",
       " 'l',\n",
       " 'a',\n",
       " 'u',\n",
       " 'n',\n",
       " 'c',\n",
       " 'h',\n",
       " 'e',\n",
       " 'd',\n",
       " ' ',\n",
       " 'i',\n",
       " 'n',\n",
       " ' ',\n",
       " '1',\n",
       " '9',\n",
       " '9',\n",
       " '8',\n",
       " '.',\n",
       " '\\n',\n",
       " 'T',\n",
       " 'h',\n",
       " 'e',\n",
       " ' ',\n",
       " 'p',\n",
       " 'a',\n",
       " 'n',\n",
       " 'i',\n",
       " 'c',\n",
       " ' ',\n",
       " 's',\n",
       " 'e',\n",
       " 'l',\n",
       " 'l',\n",
       " 'i',\n",
       " 'n',\n",
       " 'g',\n",
       " ' ',\n",
       " 'p',\n",
       " 'r',\n",
       " 'o',\n",
       " 'm',\n",
       " 'p',\n",
       " 't',\n",
       " 'e',\n",
       " 'd',\n",
       " ' ',\n",
       " 'b',\n",
       " 'y',\n",
       " ' ',\n",
       " 't',\n",
       " 'h',\n",
       " 'e',\n",
       " ' ',\n",
       " 'c',\n",
       " 'o',\n",
       " 'r',\n",
       " 'o',\n",
       " 'n',\n",
       " 'a',\n",
       " 'v',\n",
       " 'i',\n",
       " 'r',\n",
       " 'u',\n",
       " 's',\n",
       " ' ',\n",
       " 'h',\n",
       " 'a',\n",
       " 's',\n",
       " ' ',\n",
       " 'w',\n",
       " 'i',\n",
       " 'p',\n",
       " 'e',\n",
       " 'd',\n",
       " ' ',\n",
       " '£',\n",
       " '2',\n",
       " '.',\n",
       " '7',\n",
       " 't',\n",
       " 'n',\n",
       " ' ',\n",
       " 'o',\n",
       " 'f',\n",
       " 'f',\n",
       " ' ',\n",
       " 't',\n",
       " 'h',\n",
       " 'e',\n",
       " ' ',\n",
       " 'v',\n",
       " 'a',\n",
       " 'l',\n",
       " 'u',\n",
       " 'e',\n",
       " ' ',\n",
       " 'o',\n",
       " 'f',\n",
       " ' ',\n",
       " 'S',\n",
       " 'T',\n",
       " 'O',\n",
       " ' ',\n",
       " '6',\n",
       " '0',\n",
       " '0',\n",
       " ' ',\n",
       " 's',\n",
       " 'h',\n",
       " 'a',\n",
       " 'r',\n",
       " 'e',\n",
       " 's',\n",
       " ' ',\n",
       " 's',\n",
       " 'i',\n",
       " 'n',\n",
       " 'c',\n",
       " 'e',\n",
       " ' ',\n",
       " 'i',\n",
       " 't',\n",
       " 's',\n",
       " ' ',\n",
       " 'a',\n",
       " 'l',\n",
       " 'l',\n",
       " '-',\n",
       " 't',\n",
       " 'i',\n",
       " 'm',\n",
       " 'e',\n",
       " ' ',\n",
       " 'p',\n",
       " 'e',\n",
       " 'a',\n",
       " 'k',\n",
       " ' ',\n",
       " 'o',\n",
       " 'n',\n",
       " ' ',\n",
       " '1',\n",
       " '9',\n",
       " ' ',\n",
       " 'F',\n",
       " 'e',\n",
       " 'b',\n",
       " 'r',\n",
       " 'u',\n",
       " 'a',\n",
       " 'r',\n",
       " 'y',\n",
       " '.']"
      ]
     },
     "execution_count": 47,
     "metadata": {},
     "output_type": "execute_result"
    }
   ],
   "source": [
    "#here are searching for all characters in the string, except X\n",
    "result = re.findall(r\"[^X]\", string)\n",
    "result"
   ]
  },
  {
   "cell_type": "code",
   "execution_count": 48,
   "metadata": {},
   "outputs": [
    {
     "data": {
      "text/plain": [
       "['.', '.', '.', '.']"
      ]
     },
     "execution_count": 48,
     "metadata": {},
     "output_type": "execute_result"
    }
   ],
   "source": [
    "result = re.findall(r\"[(.+?)]\", string)\n",
    "result"
   ]
  },
  {
   "cell_type": "markdown",
   "metadata": {},
   "source": [
    "<b>In the square brackets, the special characters loose their power.</b>"
   ]
  },
  {
   "cell_type": "code",
   "execution_count": 49,
   "metadata": {},
   "outputs": [
    {
     "data": {
      "text/plain": [
       "['Euro', 'FTSE', 'fell', '1998', 'time', 'peak']"
      ]
     },
     "execution_count": 49,
     "metadata": {},
     "output_type": "execute_result"
    }
   ],
   "source": [
    "# searching for exactly 4 word with boundaries\n",
    "result = re.findall(r\"\\b\\w{4}\\b\", string)\n",
    "result"
   ]
  },
  {
   "cell_type": "markdown",
   "metadata": {},
   "source": [
    " The `\\b` metacharacter is used for word boundary assertions, ensuring that the matched words are exactly four characters long and surrounded by word boundaries `(spaces, punctuation, or the beginning/end of the string)`."
   ]
  },
  {
   "cell_type": "code",
   "execution_count": 50,
   "metadata": {},
   "outputs": [
    {
     "data": {
      "text/plain": [
       "['The',\n",
       " 'Euro',\n",
       " 'STOXX',\n",
       " '600',\n",
       " 'index',\n",
       " 'which',\n",
       " 'all',\n",
       " 'stock',\n",
       " 'the',\n",
       " 'FTSE',\n",
       " 'fell',\n",
       " 'the',\n",
       " 'worst',\n",
       " 'day',\n",
       " 'since',\n",
       " '1998',\n",
       " 'The',\n",
       " 'panic',\n",
       " 'the',\n",
       " 'has',\n",
       " 'wiped',\n",
       " '7tn',\n",
       " 'off',\n",
       " 'the',\n",
       " 'value',\n",
       " 'STOXX',\n",
       " '600',\n",
       " 'since',\n",
       " 'its',\n",
       " 'all',\n",
       " 'time',\n",
       " 'peak']"
      ]
     },
     "execution_count": 50,
     "metadata": {},
     "output_type": "execute_result"
    }
   ],
   "source": [
    "# here we are searching for a word whose length is 3 and can go upto 5 max\n",
    "result = re.findall(r\"\\b\\w{3,5}\\b\", string)\n",
    "result"
   ]
  },
  {
   "cell_type": "code",
   "execution_count": 51,
   "metadata": {},
   "outputs": [
    {
     "data": {
      "text/plain": [
       "['The',\n",
       " 'Euro',\n",
       " 'STOXX',\n",
       " '600',\n",
       " 'index',\n",
       " 'which',\n",
       " 'tracks',\n",
       " 'all',\n",
       " 'stock',\n",
       " 'markets',\n",
       " 'across',\n",
       " 'Europe',\n",
       " 'including',\n",
       " 'the',\n",
       " 'FTSE',\n",
       " 'fell',\n",
       " 'the',\n",
       " 'worst',\n",
       " 'day',\n",
       " 'since',\n",
       " 'launched',\n",
       " '1998',\n",
       " 'The',\n",
       " 'panic',\n",
       " 'selling',\n",
       " 'prompted',\n",
       " 'the',\n",
       " 'coronavirus',\n",
       " 'has',\n",
       " 'wiped',\n",
       " '7tn',\n",
       " 'off',\n",
       " 'the',\n",
       " 'value',\n",
       " 'STOXX',\n",
       " '600',\n",
       " 'shares',\n",
       " 'since',\n",
       " 'its',\n",
       " 'all',\n",
       " 'time',\n",
       " 'peak',\n",
       " 'February']"
      ]
     },
     "execution_count": 51,
     "metadata": {},
     "output_type": "execute_result"
    }
   ],
   "source": [
    "result = re.findall(r\"\\b\\w{3,}\\b\", string)\n",
    "result"
   ]
  },
  {
   "cell_type": "markdown",
   "metadata": {},
   "source": [
    "\n",
    "`Curly braces {}` in regular expressions serve as quantifiers, and they are used to <i>specify the exact number of occurrences of a character or group that we want to match.</i><br> They provide control over the repetition of elements in our regex pattern, making it more precise and flexible."
   ]
  },
  {
   "cell_type": "code",
   "execution_count": 52,
   "metadata": {},
   "outputs": [
    {
     "data": {
      "text/plain": [
       "<re.Match object; span=(15, 18), match='600'>"
      ]
     },
     "execution_count": 52,
     "metadata": {},
     "output_type": "execute_result"
    }
   ],
   "source": [
    "# here we are searching for 3 digit number OR 4 digit number OR a word with 4 character\n",
    "result = re.search(r\"\\d{3}|\\d{4}|\\b[A-Z]{4}\\b\",string)\n",
    "result"
   ]
  },
  {
   "cell_type": "markdown",
   "metadata": {},
   "source": [
    "The `vertical bar | (pipe)` serves as an `OR` operator. It allows you to specify multiple alternative patterns, and the regular expression engine will match any of those alternatives."
   ]
  },
  {
   "cell_type": "code",
   "execution_count": 53,
   "metadata": {},
   "outputs": [],
   "source": [
    "string1 = \"The Euro STOXX 600 index, which tracks all stock markets across Europe including the FTSE, fell by 11.48% – the worst day since it launched in 1998.\\nThe panic selling prompted by the coronavirus has wiped £2.7tn off the value of STOXX 600 shares since its all-time peak on 19 February.\""
   ]
  },
  {
   "cell_type": "code",
   "execution_count": 54,
   "metadata": {},
   "outputs": [
    {
     "data": {
      "text/plain": [
       "['The', 'The']"
      ]
     },
     "execution_count": 54,
     "metadata": {},
     "output_type": "execute_result"
    }
   ],
   "source": [
    "result = re.findall(r\"^([A-Z].*?)\\s\", string1, re.M)\n",
    "result"
   ]
  },
  {
   "cell_type": "code",
   "execution_count": 55,
   "metadata": {},
   "outputs": [
    {
     "data": {
      "text/plain": [
       "['The']"
      ]
     },
     "execution_count": 55,
     "metadata": {},
     "output_type": "execute_result"
    }
   ],
   "source": [
    "result = re.findall(r\"\\A([A-Z].*?)\\s\", string1, re.M)\n",
    "result"
   ]
  },
  {
   "cell_type": "markdown",
   "metadata": {},
   "source": [
    " The `\\A` metacharacter is used to specify the start of a string. It anchors the pattern to the very beginning of the string and ensures that the match occurs only at the start of the string, not anywhere else within it. Unlike the caret `^` metacharacter, which can match the start of a line within a multiline string,<b><i> \\A always matches the start of the entire string."
   ]
  },
  {
   "cell_type": "code",
   "execution_count": 56,
   "metadata": {},
   "outputs": [
    {
     "data": {
      "text/plain": [
       "['.']"
      ]
     },
     "execution_count": 56,
     "metadata": {},
     "output_type": "execute_result"
    }
   ],
   "source": [
    "result = re.findall(r\"\\W\\Z\", string1, re.M)\n",
    "result"
   ]
  },
  {
   "cell_type": "code",
   "execution_count": 57,
   "metadata": {},
   "outputs": [
    {
     "data": {
      "text/plain": [
       "['.', '.']"
      ]
     },
     "execution_count": 57,
     "metadata": {},
     "output_type": "execute_result"
    }
   ],
   "source": [
    "result = re.findall(r\"\\W$\", string1, re.M)\n",
    "result"
   ]
  },
  {
   "cell_type": "markdown",
   "metadata": {},
   "source": [
    "`\\Z` is a metacharacter that represents the end of the string. It's similar to the dollar sign `$`, which also represents the end of the string, but there is a subtle difference between them:<br><i> `\\Z` matches the end of the string even if there's a trailing newline character, whereas `$` matches the end of the string or the end of a line."
   ]
  },
  {
   "cell_type": "code",
   "execution_count": 58,
   "metadata": {},
   "outputs": [
    {
     "data": {
      "text/plain": [
       "('index', 'FTSE')"
      ]
     },
     "execution_count": 58,
     "metadata": {},
     "output_type": "execute_result"
    }
   ],
   "source": [
    "result = re.search(r\".+(\\b.+ex\\b).+(\\b[A-Z]{4}\\b)\", string)\n",
    "result.groups()"
   ]
  },
  {
   "cell_type": "code",
   "execution_count": 59,
   "metadata": {},
   "outputs": [
    {
     "data": {
      "text/plain": [
       "'index'"
      ]
     },
     "execution_count": 59,
     "metadata": {},
     "output_type": "execute_result"
    }
   ],
   "source": [
    "result.group(1)"
   ]
  },
  {
   "cell_type": "code",
   "execution_count": 60,
   "metadata": {},
   "outputs": [
    {
     "data": {
      "text/plain": [
       "('FTSE',)"
      ]
     },
     "execution_count": 60,
     "metadata": {},
     "output_type": "execute_result"
    }
   ],
   "source": [
    "result = re.search(r\".+(?:\\b.+ex\\b).+(\\b[A-Z]{4}\\b)\", string)\n",
    "result.groups()"
   ]
  },
  {
   "cell_type": "markdown",
   "metadata": {},
   "source": [
    "`?:` construct is used to create a non-capturing group. A non-capturing group is a way to group and match pattern in a regex without capturing the matched text as a separate group in the result.<br><br>\n",
    "It is helpful in cases where we need to use grouping for the purpose of applying a quantifier, specifying an alteration, but we dont't want to capture the matched text."
   ]
  },
  {
   "cell_type": "code",
   "execution_count": 61,
   "metadata": {},
   "outputs": [
    {
     "data": {
      "text/plain": [
       "('index', 'FTSE')"
      ]
     },
     "execution_count": 61,
     "metadata": {},
     "output_type": "execute_result"
    }
   ],
   "source": [
    "result = re.search(r\".+(?P<wordex>\\b.+ex\\b).+(?P<uppercase>\\b[A-Z]{4}\\b)\", string)\n",
    "result.groups()"
   ]
  },
  {
   "cell_type": "markdown",
   "metadata": {},
   "source": [
    "Named groups allow us to capture specific patterns within a matched string and assign them meaningful names<i>(wordex, uppercase)</i>.<br><br>\n",
    "<b>Syntax:</b> -<br>\n",
    "To create a group, use the syntax`(?P<name> ..)`"
   ]
  },
  {
   "cell_type": "code",
   "execution_count": 62,
   "metadata": {},
   "outputs": [
    {
     "data": {
      "text/plain": [
       "'index'"
      ]
     },
     "execution_count": 62,
     "metadata": {},
     "output_type": "execute_result"
    }
   ],
   "source": [
    "result.group(\"wordex\")"
   ]
  },
  {
   "cell_type": "code",
   "execution_count": 63,
   "metadata": {},
   "outputs": [
    {
     "data": {
      "text/plain": [
       "'FTSE'"
      ]
     },
     "execution_count": 63,
     "metadata": {},
     "output_type": "execute_result"
    }
   ],
   "source": [
    "result.group(\"uppercase\")"
   ]
  },
  {
   "cell_type": "code",
   "execution_count": 64,
   "metadata": {},
   "outputs": [
    {
     "data": {
      "text/plain": [
       "{'wordex': 'index', 'uppercase': 'FTSE'}"
      ]
     },
     "execution_count": 64,
     "metadata": {},
     "output_type": "execute_result"
    }
   ],
   "source": [
    "result.groupdict()"
   ]
  },
  {
   "cell_type": "code",
   "execution_count": 65,
   "metadata": {},
   "outputs": [
    {
     "data": {
      "text/plain": [
       "['STOXX', 'STOXX']"
      ]
     },
     "execution_count": 65,
     "metadata": {},
     "output_type": "execute_result"
    }
   ],
   "source": [
    "#here we are searching for word which is 5 character long and should end with a space followed by a 3 digit number\n",
    "result = re.findall(r\"([A-Z]{5})\\s(?=[0-9]{3})\", string)\n",
    "result"
   ]
  },
  {
   "cell_type": "code",
   "execution_count": 66,
   "metadata": {},
   "outputs": [
    {
     "data": {
      "text/plain": [
       "['Euro']"
      ]
     },
     "execution_count": 66,
     "metadata": {},
     "output_type": "execute_result"
    }
   ],
   "source": [
    "# here we are searching for the work 'Euro' which is a part of a bigger word\n",
    "result = re.findall(r\"Euro(?=[a-z]+)\", string)\n",
    "result"
   ]
  },
  {
   "cell_type": "markdown",
   "metadata": {},
   "source": [
    "A <b> positive lookahead assertion</b> in regular expression is a way to specify a pattern that must be followed by another pattern without including the latter in the match.<br><br>\n",
    "<b>Syntax: -</b>\n",
    "To create a positive lookahead assertion, use the syntax `(?= ..)`,  '`...`' represents the pattern that must be followed by the main pattern.\n"
   ]
  },
  {
   "cell_type": "code",
   "execution_count": 67,
   "metadata": {},
   "outputs": [
    {
     "data": {
      "text/plain": [
       "['6', '0', '1', '6', '0']"
      ]
     },
     "execution_count": 67,
     "metadata": {},
     "output_type": "execute_result"
    }
   ],
   "source": [
    "result = re.findall(r\"\\d(?![5-9]|\\D)\", string)\n",
    "result"
   ]
  },
  {
   "cell_type": "code",
   "execution_count": 68,
   "metadata": {},
   "outputs": [
    {
     "data": {
      "text/plain": [
       "['index', 'FTSE', '11', '48', '1998', '2', 'all', 'February']"
      ]
     },
     "execution_count": 68,
     "metadata": {},
     "output_type": "execute_result"
    }
   ],
   "source": [
    "result = re.findall(r\"\\b\\w+\\b(?!\\s)\", string)\n",
    "result"
   ]
  },
  {
   "cell_type": "markdown",
   "metadata": {},
   "source": [
    "<b>Negative lookahead assertion</b> in regular expressions is a way to specify a conditions that must not be met for a match to occur.<br><br>\n",
    "<b>Syntax: -</b><br>\n",
    "To create a negative lookahead assertion, use the syntax `(?! ...)`, '`...`' represents the pattern we want to ensure is not present."
   ]
  },
  {
   "cell_type": "code",
   "execution_count": 69,
   "metadata": {},
   "outputs": [
    {
     "data": {
      "text/plain": [
       "['600', '11', '1998', '600', '19']"
      ]
     },
     "execution_count": 69,
     "metadata": {},
     "output_type": "execute_result"
    }
   ],
   "source": [
    "result = re.findall(r\"(?<=\\s)\\d{1,}\", string)\n",
    "result"
   ]
  },
  {
   "cell_type": "code",
   "execution_count": 70,
   "metadata": {},
   "outputs": [
    {
     "data": {
      "text/plain": [
       "['which', 'fell']"
      ]
     },
     "execution_count": 70,
     "metadata": {},
     "output_type": "execute_result"
    }
   ],
   "source": [
    "result = re.findall(r\"(?<=,\\s)\\b\\w+\\b\", string)\n",
    "result"
   ]
  },
  {
   "cell_type": "markdown",
   "metadata": {},
   "source": [
    "<b>Positive lookbehind assertions</b> in regex is a mechanism that allows us to specify a condition that must be met immediately before the main part of the pattern is matched.<br><br>\n",
    "<b>Syntax: -</b><br>\n",
    "To create a positive lookbehind assertion, use the syntax `(?<= ..)`,  `'...'` represents the pattern we want to ensure is present."
   ]
  },
  {
   "cell_type": "code",
   "execution_count": 71,
   "metadata": {},
   "outputs": [
    {
     "data": {
      "text/plain": [
       "['00', '1', '48', '998', '2', '7', '00', '9']"
      ]
     },
     "execution_count": 71,
     "metadata": {},
     "output_type": "execute_result"
    }
   ],
   "source": [
    "result = re.findall(r\"(?<!\\s)\\d{1,}\", string)\n",
    "result"
   ]
  },
  {
   "cell_type": "code",
   "execution_count": 72,
   "metadata": {},
   "outputs": [
    {
     "data": {
      "text/plain": [
       "['x']"
      ]
     },
     "execution_count": 72,
     "metadata": {},
     "output_type": "execute_result"
    }
   ],
   "source": [
    "result = re.findall(r\"(?<!x)x(?!x)\", string, re.I)\n",
    "result"
   ]
  },
  {
   "cell_type": "markdown",
   "metadata": {},
   "source": [
    "<b>Negative lookbehind assertions</b> in regex is a mechanism that allows us to specify a condition that must <b>not</b> be met immediately before the main part of the pattern is matched.<br><br>\n",
    "<b>Syntax: -</b><br>\n",
    "To create a negative lookbehind assertion, use the syntax `(?<! ...)`,  `'...'` represents the pattern we want to ensure is not present."
   ]
  }
 ],
 "metadata": {
  "kernelspec": {
   "display_name": "Python 3",
   "language": "python",
   "name": "python3"
  },
  "language_info": {
   "codemirror_mode": {
    "name": "ipython",
    "version": 3
   },
   "file_extension": ".py",
   "mimetype": "text/x-python",
   "name": "python",
   "nbconvert_exporter": "python",
   "pygments_lexer": "ipython3",
   "version": "3.11.1"
  },
  "orig_nbformat": 4
 },
 "nbformat": 4,
 "nbformat_minor": 2
}
