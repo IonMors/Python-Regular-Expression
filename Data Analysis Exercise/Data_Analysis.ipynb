{
 "cells": [
  {
   "cell_type": "code",
   "execution_count": 2,
   "metadata": {},
   "outputs": [],
   "source": [
    "import pandas"
   ]
  },
  {
   "cell_type": "code",
   "execution_count": 3,
   "metadata": {},
   "outputs": [
    {
     "data": {
      "text/plain": [
       "pandas.core.frame.DataFrame"
      ]
     },
     "execution_count": 3,
     "metadata": {},
     "output_type": "execute_result"
    }
   ],
   "source": [
    "d = pandas.DataFrame()\n",
    "type(d)"
   ]
  },
  {
   "cell_type": "code",
   "execution_count": 4,
   "metadata": {},
   "outputs": [
    {
     "data": {
      "text/plain": [
       "pandas.core.frame.DataFrame"
      ]
     },
     "execution_count": 4,
     "metadata": {},
     "output_type": "execute_result"
    }
   ],
   "source": [
    "d = pandas.DataFrame([['Andy', 46, 'Engineer'], ['Jane', 33, 'Nurse'], ['Robert', 21, 'Student'], ['Maria', 30, 'Student']])\n",
    "type(d)"
   ]
  },
  {
   "cell_type": "code",
   "execution_count": 5,
   "metadata": {},
   "outputs": [
    {
     "data": {
      "text/html": [
       "<div>\n",
       "<style scoped>\n",
       "    .dataframe tbody tr th:only-of-type {\n",
       "        vertical-align: middle;\n",
       "    }\n",
       "\n",
       "    .dataframe tbody tr th {\n",
       "        vertical-align: top;\n",
       "    }\n",
       "\n",
       "    .dataframe thead th {\n",
       "        text-align: right;\n",
       "    }\n",
       "</style>\n",
       "<table border=\"1\" class=\"dataframe\">\n",
       "  <thead>\n",
       "    <tr style=\"text-align: right;\">\n",
       "      <th></th>\n",
       "      <th>0</th>\n",
       "      <th>1</th>\n",
       "      <th>2</th>\n",
       "    </tr>\n",
       "  </thead>\n",
       "  <tbody>\n",
       "    <tr>\n",
       "      <th>0</th>\n",
       "      <td>Andy</td>\n",
       "      <td>46</td>\n",
       "      <td>Engineer</td>\n",
       "    </tr>\n",
       "    <tr>\n",
       "      <th>1</th>\n",
       "      <td>Jane</td>\n",
       "      <td>33</td>\n",
       "      <td>Nurse</td>\n",
       "    </tr>\n",
       "    <tr>\n",
       "      <th>2</th>\n",
       "      <td>Robert</td>\n",
       "      <td>21</td>\n",
       "      <td>Student</td>\n",
       "    </tr>\n",
       "    <tr>\n",
       "      <th>3</th>\n",
       "      <td>Maria</td>\n",
       "      <td>30</td>\n",
       "      <td>Student</td>\n",
       "    </tr>\n",
       "  </tbody>\n",
       "</table>\n",
       "</div>"
      ],
      "text/plain": [
       "        0   1         2\n",
       "0    Andy  46  Engineer\n",
       "1    Jane  33     Nurse\n",
       "2  Robert  21   Student\n",
       "3   Maria  30   Student"
      ]
     },
     "execution_count": 5,
     "metadata": {},
     "output_type": "execute_result"
    }
   ],
   "source": [
    "d"
   ]
  },
  {
   "cell_type": "code",
   "execution_count": 6,
   "metadata": {},
   "outputs": [
    {
     "data": {
      "text/html": [
       "<div>\n",
       "<style scoped>\n",
       "    .dataframe tbody tr th:only-of-type {\n",
       "        vertical-align: middle;\n",
       "    }\n",
       "\n",
       "    .dataframe tbody tr th {\n",
       "        vertical-align: top;\n",
       "    }\n",
       "\n",
       "    .dataframe thead th {\n",
       "        text-align: right;\n",
       "    }\n",
       "</style>\n",
       "<table border=\"1\" class=\"dataframe\">\n",
       "  <thead>\n",
       "    <tr style=\"text-align: right;\">\n",
       "      <th></th>\n",
       "      <th>Name</th>\n",
       "      <th>Age</th>\n",
       "      <th>Occupation</th>\n",
       "    </tr>\n",
       "  </thead>\n",
       "  <tbody>\n",
       "    <tr>\n",
       "      <th>ID1</th>\n",
       "      <td>Andy</td>\n",
       "      <td>46</td>\n",
       "      <td>Engineer</td>\n",
       "    </tr>\n",
       "    <tr>\n",
       "      <th>ID2</th>\n",
       "      <td>Jane</td>\n",
       "      <td>33</td>\n",
       "      <td>Nurse</td>\n",
       "    </tr>\n",
       "    <tr>\n",
       "      <th>ID3</th>\n",
       "      <td>Robert</td>\n",
       "      <td>21</td>\n",
       "      <td>Student</td>\n",
       "    </tr>\n",
       "    <tr>\n",
       "      <th>ID4</th>\n",
       "      <td>Maria</td>\n",
       "      <td>30</td>\n",
       "      <td>Student</td>\n",
       "    </tr>\n",
       "  </tbody>\n",
       "</table>\n",
       "</div>"
      ],
      "text/plain": [
       "       Name  Age Occupation\n",
       "ID1    Andy   46   Engineer\n",
       "ID2    Jane   33      Nurse\n",
       "ID3  Robert   21    Student\n",
       "ID4   Maria   30    Student"
      ]
     },
     "execution_count": 6,
     "metadata": {},
     "output_type": "execute_result"
    }
   ],
   "source": [
    "d = pandas.DataFrame([['Andy', 46, 'Engineer'], ['Jane', 33, 'Nurse'], ['Robert', 21, 'Student'], ['Maria', 30, 'Student']], columns=[\"Name\", \"Age\", \"Occupation\"], index=[\"ID1\", \"ID2\", \"ID3\", \"ID4\"])\n",
    "d\n"
   ]
  },
  {
   "cell_type": "markdown",
   "metadata": {},
   "source": [
    "<h2>Working with HTML Content</h2>"
   ]
  },
  {
   "cell_type": "code",
   "execution_count": 7,
   "metadata": {},
   "outputs": [
    {
     "data": {
      "text/html": [
       "<div>\n",
       "<style scoped>\n",
       "    .dataframe tbody tr th:only-of-type {\n",
       "        vertical-align: middle;\n",
       "    }\n",
       "\n",
       "    .dataframe tbody tr th {\n",
       "        vertical-align: top;\n",
       "    }\n",
       "\n",
       "    .dataframe thead th {\n",
       "        text-align: right;\n",
       "    }\n",
       "</style>\n",
       "<table border=\"1\" class=\"dataframe\">\n",
       "  <thead>\n",
       "    <tr style=\"text-align: right;\">\n",
       "      <th></th>\n",
       "      <th>Type</th>\n",
       "      <th>Mutability</th>\n",
       "      <th>Description</th>\n",
       "      <th>Syntax examples</th>\n",
       "    </tr>\n",
       "  </thead>\n",
       "  <tbody>\n",
       "    <tr>\n",
       "      <th>0</th>\n",
       "      <td>bool</td>\n",
       "      <td>immutable</td>\n",
       "      <td>Boolean value</td>\n",
       "      <td>True False</td>\n",
       "    </tr>\n",
       "    <tr>\n",
       "      <th>1</th>\n",
       "      <td>bytearray</td>\n",
       "      <td>mutable</td>\n",
       "      <td>Sequence of bytes</td>\n",
       "      <td>bytearray(b'Some ASCII') bytearray(b\"Some ASCI...</td>\n",
       "    </tr>\n",
       "    <tr>\n",
       "      <th>2</th>\n",
       "      <td>bytes</td>\n",
       "      <td>immutable</td>\n",
       "      <td>Sequence of bytes</td>\n",
       "      <td>b'Some ASCII' b\"Some ASCII\" bytes([119, 105, 1...</td>\n",
       "    </tr>\n",
       "    <tr>\n",
       "      <th>3</th>\n",
       "      <td>complex</td>\n",
       "      <td>immutable</td>\n",
       "      <td>Complex number with real and imaginary parts</td>\n",
       "      <td>3+2.7j 3 + 2.7j</td>\n",
       "    </tr>\n",
       "    <tr>\n",
       "      <th>4</th>\n",
       "      <td>dict</td>\n",
       "      <td>mutable</td>\n",
       "      <td>Associative array (or dictionary) of key and v...</td>\n",
       "      <td>{'key1': 1.0, 3: False} {}</td>\n",
       "    </tr>\n",
       "    <tr>\n",
       "      <th>5</th>\n",
       "      <td>types.EllipsisType</td>\n",
       "      <td>immutable</td>\n",
       "      <td>An ellipsis placeholder to be used as an index...</td>\n",
       "      <td>... Ellipsis</td>\n",
       "    </tr>\n",
       "    <tr>\n",
       "      <th>6</th>\n",
       "      <td>float</td>\n",
       "      <td>immutable</td>\n",
       "      <td>Double-precision floating-point number. The pr...</td>\n",
       "      <td>1.33333</td>\n",
       "    </tr>\n",
       "    <tr>\n",
       "      <th>7</th>\n",
       "      <td>frozenset</td>\n",
       "      <td>immutable</td>\n",
       "      <td>Unordered set, contains no duplicates; can con...</td>\n",
       "      <td>frozenset([4.0, 'string', True])</td>\n",
       "    </tr>\n",
       "    <tr>\n",
       "      <th>8</th>\n",
       "      <td>int</td>\n",
       "      <td>immutable</td>\n",
       "      <td>Integer of unlimited magnitude[106]</td>\n",
       "      <td>42</td>\n",
       "    </tr>\n",
       "    <tr>\n",
       "      <th>9</th>\n",
       "      <td>list</td>\n",
       "      <td>mutable</td>\n",
       "      <td>List, can contain mixed types</td>\n",
       "      <td>[4.0, 'string', True] []</td>\n",
       "    </tr>\n",
       "    <tr>\n",
       "      <th>10</th>\n",
       "      <td>types.NoneType</td>\n",
       "      <td>immutable</td>\n",
       "      <td>An object representing the absence of a value,...</td>\n",
       "      <td>NaN</td>\n",
       "    </tr>\n",
       "    <tr>\n",
       "      <th>11</th>\n",
       "      <td>types.NotImplementedType</td>\n",
       "      <td>immutable</td>\n",
       "      <td>A placeholder that can be returned from overlo...</td>\n",
       "      <td>NotImplemented</td>\n",
       "    </tr>\n",
       "    <tr>\n",
       "      <th>12</th>\n",
       "      <td>range</td>\n",
       "      <td>immutable</td>\n",
       "      <td>An immutable sequence of numbers commonly used...</td>\n",
       "      <td>range(-1, 10) range(10, -5, -2)</td>\n",
       "    </tr>\n",
       "    <tr>\n",
       "      <th>13</th>\n",
       "      <td>set</td>\n",
       "      <td>mutable</td>\n",
       "      <td>Unordered set, contains no duplicates; can con...</td>\n",
       "      <td>{4.0, 'string', True} set()</td>\n",
       "    </tr>\n",
       "    <tr>\n",
       "      <th>14</th>\n",
       "      <td>str</td>\n",
       "      <td>immutable</td>\n",
       "      <td>A character string: sequence of Unicode codepo...</td>\n",
       "      <td>'Wikipedia' \"Wikipedia\"\"\"\"Spanning multiple li...</td>\n",
       "    </tr>\n",
       "    <tr>\n",
       "      <th>15</th>\n",
       "      <td>tuple</td>\n",
       "      <td>immutable</td>\n",
       "      <td>Can contain mixed types</td>\n",
       "      <td>(4.0, 'string', True) ('single element',) ()</td>\n",
       "    </tr>\n",
       "  </tbody>\n",
       "</table>\n",
       "</div>"
      ],
      "text/plain": [
       "                        Type Mutability  \\\n",
       "0                       bool  immutable   \n",
       "1                  bytearray    mutable   \n",
       "2                      bytes  immutable   \n",
       "3                    complex  immutable   \n",
       "4                       dict    mutable   \n",
       "5         types.EllipsisType  immutable   \n",
       "6                      float  immutable   \n",
       "7                  frozenset  immutable   \n",
       "8                        int  immutable   \n",
       "9                       list    mutable   \n",
       "10            types.NoneType  immutable   \n",
       "11  types.NotImplementedType  immutable   \n",
       "12                     range  immutable   \n",
       "13                       set    mutable   \n",
       "14                       str  immutable   \n",
       "15                     tuple  immutable   \n",
       "\n",
       "                                          Description  \\\n",
       "0                                       Boolean value   \n",
       "1                                   Sequence of bytes   \n",
       "2                                   Sequence of bytes   \n",
       "3        Complex number with real and imaginary parts   \n",
       "4   Associative array (or dictionary) of key and v...   \n",
       "5   An ellipsis placeholder to be used as an index...   \n",
       "6   Double-precision floating-point number. The pr...   \n",
       "7   Unordered set, contains no duplicates; can con...   \n",
       "8                 Integer of unlimited magnitude[106]   \n",
       "9                       List, can contain mixed types   \n",
       "10  An object representing the absence of a value,...   \n",
       "11  A placeholder that can be returned from overlo...   \n",
       "12  An immutable sequence of numbers commonly used...   \n",
       "13  Unordered set, contains no duplicates; can con...   \n",
       "14  A character string: sequence of Unicode codepo...   \n",
       "15                            Can contain mixed types   \n",
       "\n",
       "                                      Syntax examples  \n",
       "0                                          True False  \n",
       "1   bytearray(b'Some ASCII') bytearray(b\"Some ASCI...  \n",
       "2   b'Some ASCII' b\"Some ASCII\" bytes([119, 105, 1...  \n",
       "3                                     3+2.7j 3 + 2.7j  \n",
       "4                          {'key1': 1.0, 3: False} {}  \n",
       "5                                        ... Ellipsis  \n",
       "6                                             1.33333  \n",
       "7                    frozenset([4.0, 'string', True])  \n",
       "8                                                  42  \n",
       "9                            [4.0, 'string', True] []  \n",
       "10                                                NaN  \n",
       "11                                     NotImplemented  \n",
       "12                    range(-1, 10) range(10, -5, -2)  \n",
       "13                        {4.0, 'string', True} set()  \n",
       "14  'Wikipedia' \"Wikipedia\"\"\"\"Spanning multiple li...  \n",
       "15       (4.0, 'string', True) ('single element',) ()  "
      ]
     },
     "execution_count": 7,
     "metadata": {},
     "output_type": "execute_result"
    }
   ],
   "source": [
    "url = \"https://en.wikipedia.org/wiki/Python_(programming_language)\"\n",
    "d = pandas.read_html(url)[1]\n",
    "d"
   ]
  },
  {
   "cell_type": "code",
   "execution_count": 8,
   "metadata": {},
   "outputs": [
    {
     "data": {
      "text/plain": [
       "'                        Type Mutability                                                                                                                                                                      Description                                                                    Syntax examples\\n0                       bool  immutable                                                                                                                                                                    Boolean value                                                                         True False\\n1                  bytearray    mutable                                                                                                                                                                Sequence of bytes  bytearray(b\\'Some ASCII\\') bytearray(b\"Some ASCII\") bytearray([119, 105, 107, 105])\\n2                      bytes  immutable                                                                                                                                                                Sequence of bytes                            b\\'Some ASCII\\' b\"Some ASCII\" bytes([119, 105, 107, 105])\\n3                    complex  immutable                                                                                                                                     Complex number with real and imaginary parts                                                                    3+2.7j 3 + 2.7j\\n4                       dict    mutable                                                Associative array (or dictionary) of key and value pairs; can contain mixed types (keys and values), keys must be a hashable type                                                         {\\'key1\\': 1.0, 3: False} {}\\n5         types.EllipsisType  immutable                                                                                                                   An ellipsis placeholder to be used as an index in NumPy arrays                                                                       ... Ellipsis\\n6                      float  immutable  Double-precision floating-point number. The precision is machine-dependent but in practice is generally implemented as a 64-bit IEEE\\xa0754 number with 53\\xa0bits of precision.[105]                                                                            1.33333\\n7                  frozenset  immutable                                                                                                      Unordered set, contains no duplicates; can contain mixed types, if hashable                                                   frozenset([4.0, \\'string\\', True])\\n8                        int  immutable                                                                                                                                              Integer of unlimited magnitude[106]                                                                                 42\\n9                       list    mutable                                                                                                                                                    List, can contain mixed types                                                           [4.0, \\'string\\', True] []\\n10            types.NoneType  immutable                                                                                              An object representing the absence of a value, often called null in other languages                                                                                NaN\\n11  types.NotImplementedType  immutable                                                                              A placeholder that can be returned from overloaded operators to indicate unsupported operand types.                                                                     NotImplemented\\n12                     range  immutable                                                                          An immutable sequence of numbers commonly used for looping a specific number of times in for loops[107]                                                    range(-1, 10) range(10, -5, -2)\\n13                       set    mutable                                                                                                      Unordered set, contains no duplicates; can contain mixed types, if hashable                                                        {4.0, \\'string\\', True} set()\\n14                       str  immutable                                                                                                                               A character string: sequence of Unicode codepoints       \\'Wikipedia\\' \"Wikipedia\"\"\"\"Spanning multiple lines\"\"\" Spanning multiple lines\\n15                     tuple  immutable                                                                                                                                                          Can contain mixed types                                       (4.0, \\'string\\', True) (\\'single element\\',) ()'"
      ]
     },
     "execution_count": 8,
     "metadata": {},
     "output_type": "execute_result"
    }
   ],
   "source": [
    "data = d.to_string()\n",
    "data"
   ]
  },
  {
   "cell_type": "markdown",
   "metadata": {},
   "source": [
    "<b>Question 1.</b> Display the data type from the table that are mutable."
   ]
  },
  {
   "cell_type": "code",
   "execution_count": 22,
   "metadata": {},
   "outputs": [
    {
     "data": {
      "text/plain": [
       "['bytearray', 'dict', 'list', 'set']"
      ]
     },
     "execution_count": 22,
     "metadata": {},
     "output_type": "execute_result"
    }
   ],
   "source": [
    "import re\n",
    "s1 = re.findall(r\"\\n\\d{1,}\\s{1,}(.+?)\\s{1,}mutable.+\",data)\n",
    "s1"
   ]
  },
  {
   "cell_type": "markdown",
   "metadata": {},
   "source": [
    "<b>Question 2.</b> Display the data types those who have `{}` in the syntax example."
   ]
  },
  {
   "cell_type": "code",
   "execution_count": 24,
   "metadata": {},
   "outputs": [
    {
     "data": {
      "text/plain": [
       "['dict', 'set']"
      ]
     },
     "execution_count": 24,
     "metadata": {},
     "output_type": "execute_result"
    }
   ],
   "source": [
    "s2 = re.findall(r\"\\n\\d{1,}\\s{1,}(\\w+?)\\s{1,}.+\\{.+\\}\", data)\n",
    "s2"
   ]
  },
  {
   "cell_type": "markdown",
   "metadata": {},
   "source": [
    "<b>Question 3.</b> Display the descirption of those data types those are 4 character long."
   ]
  },
  {
   "cell_type": "code",
   "execution_count": 28,
   "metadata": {},
   "outputs": [
    {
     "data": {
      "text/plain": [
       "['Boolean value',\n",
       " 'Associative array (or dictionary) of key and value pairs; can contain mixed types (keys and values), keys must be a hashable type',\n",
       " 'Integer of unlimited magnitude[106]',\n",
       " 'List, can contain mixed types',\n",
       " 'Unordered set, contains no duplicates; can contain mixed types, if hashable',\n",
       " 'A character string: sequence of Unicode codepoints']"
      ]
     },
     "execution_count": 28,
     "metadata": {},
     "output_type": "execute_result"
    }
   ],
   "source": [
    "s3 = re.findall(r\"\\n\\d{1,}\\s{1,}\\w{1,4}\\s{1,}\\w+?\\s{1,}(.+?)\\s{2,}.+\", data)\n",
    "s3"
   ]
  },
  {
   "cell_type": "markdown",
   "metadata": {},
   "source": [
    "<b>Question 4.</b> Display the 1st 10 character of the description whose data type ids are odd."
   ]
  },
  {
   "cell_type": "code",
   "execution_count": 29,
   "metadata": {},
   "outputs": [
    {
     "data": {
      "text/plain": [
       "['Sequence o',\n",
       " 'Complex nu',\n",
       " 'precision.',\n",
       " 'immutable ',\n",
       " 'List, can ',\n",
       " 'Unordered ',\n",
       " 'Can contai']"
      ]
     },
     "execution_count": 29,
     "metadata": {},
     "output_type": "execute_result"
    }
   ],
   "source": [
    "s4 = re.findall(r\"\\d*[13579]\\s{1,}\\w+?\\s{1,}\\w+?\\s{1,}(.{10})\", data)\n",
    "s4"
   ]
  },
  {
   "cell_type": "markdown",
   "metadata": {},
   "source": [
    "<b>Question 5.</b> Display the data types from the dataframe whose Syntax example contain a floating point number"
   ]
  },
  {
   "cell_type": "code",
   "execution_count": 30,
   "metadata": {},
   "outputs": [
    {
     "data": {
      "text/plain": [
       "['complex', 'dict', 'float', 'frozenset', 'list', 'set', 'tuple']"
      ]
     },
     "execution_count": 30,
     "metadata": {},
     "output_type": "execute_result"
    }
   ],
   "source": [
    "s5 = re.findall(r\"\\n\\d{1,}\\s{1,}(\\w+?)\\s{1,}.+\\d{1,}\\.\\d{1,}\", data)\n",
    "s5"
   ]
  },
  {
   "cell_type": "markdown",
   "metadata": {},
   "source": [
    "<b>Question 6.</b> Use a regular expressions pattern with the findall() method, to return the immutable data types whose names are at least 7 characters long.\n",
    "\n"
   ]
  },
  {
   "cell_type": "code",
   "execution_count": 31,
   "metadata": {},
   "outputs": [
    {
     "data": {
      "text/plain": [
       "['complex', 'frozenset']"
      ]
     },
     "execution_count": 31,
     "metadata": {},
     "output_type": "execute_result"
    }
   ],
   "source": [
    "s6 = re.findall(r\"\\d{1,}\\s{1,}(\\w{7,})\\s{1,}immutable\", data)\n",
    "s6"
   ]
  },
  {
   "cell_type": "markdown",
   "metadata": {},
   "source": [
    "<b>Question 7.</b> Use a regular expressions pattern with the findall() method, to return the descriptions for all immutable data types whose names are no more than 3 characters long."
   ]
  },
  {
   "cell_type": "code",
   "execution_count": 32,
   "metadata": {},
   "outputs": [
    {
     "data": {
      "text/plain": [
       "['Integer of unlimited magnitude[106]',\n",
       " 'A character string: sequence of Unicode codepoints']"
      ]
     },
     "execution_count": 32,
     "metadata": {},
     "output_type": "execute_result"
    }
   ],
   "source": [
    "s7 = re.findall(r\"\\d{1,}\\s{1,}\\w{1,3}\\s{1,}immutable\\s{1,}(.+?)\\s{2,}\", data)\n",
    "s7"
   ]
  },
  {
   "cell_type": "markdown",
   "metadata": {},
   "source": [
    " <b>Quetion 8.</b> Use a regular expressions pattern with the findall() method, to return all the data types whose ID is an even number (including 0)."
   ]
  },
  {
   "cell_type": "code",
   "execution_count": 40,
   "metadata": {},
   "outputs": [
    {
     "data": {
      "text/plain": [
       "['bool', 'bytes', 'dict', 'float', 'int', 'range', 'str']"
      ]
     },
     "execution_count": 40,
     "metadata": {},
     "output_type": "execute_result"
    }
   ],
   "source": [
    "s8 = re.findall(r\"\\n\\d*[02468]\\s{1,}(\\w+?)\\s{1,}\", data)\n",
    "s8"
   ]
  },
  {
   "cell_type": "markdown",
   "metadata": {},
   "source": [
    " <b>Question 9.</b> Use a regular expressions pattern with the findall() method, to return the data types whose IDs are made of only 1 digit and contain at least 3 consecutive digits somewhere on their respective lines."
   ]
  },
  {
   "cell_type": "code",
   "execution_count": 45,
   "metadata": {},
   "outputs": [
    {
     "data": {
      "text/plain": [
       "['bytearray', 'bytes', 'float', 'int', 'range']"
      ]
     },
     "execution_count": 45,
     "metadata": {},
     "output_type": "execute_result"
    }
   ],
   "source": [
    "s9 = re.findall(r\"\\d{1}\\s{1,}(\\w+?)\\s{1,}.*\\d{3}.\", data)\n",
    "s9"
   ]
  },
  {
   "cell_type": "markdown",
   "metadata": {},
   "source": [
    "<b>Question 10.</b> Use a regular expressions pattern with the findall() method, to return all the immutable data types that do not contain a digit in the Description and the Syntax Example columns."
   ]
  },
  {
   "cell_type": "code",
   "execution_count": 48,
   "metadata": {},
   "outputs": [
    {
     "data": {
      "text/plain": [
       "['bool', 'str']"
      ]
     },
     "execution_count": 48,
     "metadata": {},
     "output_type": "execute_result"
    }
   ],
   "source": [
    "s10 = re.findall(r\"\\d{1,}\\s{1,}(\\w{1,})\\s{1,}immutable\\s{1,}(?!.*\\d{1,}.*)\", data)\n",
    "s10"
   ]
  }
 ],
 "metadata": {
  "kernelspec": {
   "display_name": "Python 3",
   "language": "python",
   "name": "python3"
  },
  "language_info": {
   "codemirror_mode": {
    "name": "ipython",
    "version": 3
   },
   "file_extension": ".py",
   "mimetype": "text/x-python",
   "name": "python",
   "nbconvert_exporter": "python",
   "pygments_lexer": "ipython3",
   "version": "3.11.1"
  }
 },
 "nbformat": 4,
 "nbformat_minor": 2
}
