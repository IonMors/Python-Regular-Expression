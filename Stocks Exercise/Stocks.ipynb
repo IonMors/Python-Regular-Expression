{
 "cells": [
  {
   "cell_type": "code",
   "execution_count": 1,
   "metadata": {},
   "outputs": [
    {
     "data": {
      "text/plain": [
       "'Name\\t        AverageVolume\\tRevenue\\t    P/E Ratio\\n3M              5.03M\\t        32.14B\\t    18.74\\t\\nAlphabet C\\t    2.41M\\t        161.86B\\t    26.01\\nAmazon.com\\t    6.01M\\t        280.52B\\t    103.18\\nApple\\t        51.02M\\t        267.68B\\t    22.34\\nBoeing\\t        23.63M\\t        84.82B\\t\\t20.31\\nCaterpillar\\t    5.46M\\t        53.80B\\t    11.18\\nChevron\\t        14.33M\\t        140.16B\\t    58.8\\nCisco\\t        32.32M\\t        51.55B\\t    15.42\\nCoca-Cola\\t    20.82M\\t        37.27B\\t    23.24\\nExxon Mobil\\t    37.47M\\t        255.58B\\t    13.57\\nFacebook\\t    23.04M\\t        70.70B\\t    29.45\\nGoldman Sachs\\t4.51M\\t        53.69B\\t    9.97\\nHome Depot\\t    6.82M\\t        110.23B\\t    20.43\\nIBM\\t            7.17M\\t        77.15B\\t    11.19\\nIntel\\t        33.07M\\t        71.97B\\t    12.77\\nJ&J\\t            11.54M\\t        82.73B\\t    23.72\\nJPMorgan\\t    22.96M\\t        67.07B\\t    10.75\\nMcDonalds\\t    5.62M\\t        21.08B\\t    23.43\\nMerck&Co\\t    14.11M\\t        46.84B\\t    21.64\\nMicrosoft\\t    54.66M\\t        134.25B\\t    33.04\\nNike\\t        10.38M\\t        41.27B\\t    33.27\\nPfizer\\t        34.01M\\t        51.75B\\t    13.15\\nProcter&Gamble\\t11.36M\\t        69.59B\\t\\t11.19\\nRaytheon Tech.\\t10.18M\\t        77.05B\\t    10.31\\nTesla\\t        20.82M\\t        24.58B\\t\\t14.41\\nUnitedHealth\\t6.24M\\t        246.27B\\t    20.34\\nVerizon\\t        21.91M\\t        131.87B\\t    12.56\\nVisa A\\t        13.98M\\t        23.53B\\t    32.21\\nWalmart\\t        10.10M\\t        523.96B\\t    25.46\\nWalt Disney\\t    20.03M\\t        75.13B\\t    17.98\\n\\n\\nSource: https://www.investing.com/equities/\\n(slightly modified for educational purposes)'"
      ]
     },
     "execution_count": 1,
     "metadata": {},
     "output_type": "execute_result"
    }
   ],
   "source": [
    "f = open(r\"stocks.txt\")\n",
    "string = f.read()\n",
    "string"
   ]
  },
  {
   "cell_type": "code",
   "execution_count": 2,
   "metadata": {},
   "outputs": [],
   "source": [
    "import re  "
   ]
  },
  {
   "cell_type": "code",
   "execution_count": 11,
   "metadata": {},
   "outputs": [
    {
     "data": {
      "text/plain": [
       "['3M', 'Coca-Cola', 'McDonalds', 'Merck&Co', 'Nike', 'Tesla', 'Visa A']"
      ]
     },
     "execution_count": 11,
     "metadata": {},
     "output_type": "execute_result"
    }
   ],
   "source": [
    "result = re.findall(r\"(.+?)\\s+[0-9]+\\.[0-9]+M\\s+[1-4][0-9]\\.[0-9]+B\\s+[0-9]+\\.[0-9]+\",string)\n",
    "result"
   ]
  },
  {
   "cell_type": "markdown",
   "metadata": {},
   "source": [
    "<b>Question 1:</b> Write a pattern, that will match the company names whose revenue is between 10B and 30B and P/E ratio is between 10 and 15."
   ]
  },
  {
   "cell_type": "code",
   "execution_count": 14,
   "metadata": {},
   "outputs": [
    {
     "data": {
      "text/plain": [
       "['Tesla']"
      ]
     },
     "execution_count": 14,
     "metadata": {},
     "output_type": "execute_result"
    }
   ],
   "source": [
    "result = re.findall(r\"(.+?)\\s+[0-9]+\\.[0-9]+M\\s+[1-2][0-9]\\.[0-9]+B\\s+1[0-4]\\.[0-9]+\",string)\n",
    "result"
   ]
  },
  {
   "cell_type": "markdown",
   "metadata": {},
   "source": [
    "<b>Question 2:</b> Write a pattern, that will match the company names whose average volume is less than 10M."
   ]
  },
  {
   "cell_type": "code",
   "execution_count": 18,
   "metadata": {},
   "outputs": [
    {
     "data": {
      "text/plain": [
       "['3M',\n",
       " 'Alphabet C',\n",
       " 'Amazon.com',\n",
       " 'Caterpillar',\n",
       " 'Goldman Sachs',\n",
       " 'Home Depot',\n",
       " 'IBM',\n",
       " 'McDonalds',\n",
       " 'UnitedHealth']"
      ]
     },
     "execution_count": 18,
     "metadata": {},
     "output_type": "execute_result"
    }
   ],
   "source": [
    "result = re.findall(r\"(.+?)\\s+[0-9]\\.[0-9]+M\\s+.+\",string)\n",
    "result"
   ]
  },
  {
   "cell_type": "markdown",
   "metadata": {},
   "source": [
    "<b>Question 3:</b> Write a pattern, that will match the companies names whose Average Volume starts with an even digit (2, 4, 6 or 8), and their P/E ratio ends with an odd digit (1, 3, 5, 7 or 9)."
   ]
  },
  {
   "cell_type": "code",
   "execution_count": 29,
   "metadata": {},
   "outputs": [
    {
     "data": {
      "text/plain": [
       "['Alphabet C',\n",
       " 'Boeing',\n",
       " 'Facebook',\n",
       " 'Goldman Sachs',\n",
       " 'Home Depot',\n",
       " 'JPMorgan',\n",
       " 'Tesla']"
      ]
     },
     "execution_count": 29,
     "metadata": {},
     "output_type": "execute_result"
    }
   ],
   "source": [
    "result = re.findall(r\"(.+?)\\s+[2468][0-9]*\\.[0-9]+M\\s+[0-9]+\\.[0-9]+B\\s+[0-9]+\\.[0-9][13579]\",string)\n",
    "result"
   ]
  },
  {
   "cell_type": "code",
   "execution_count": null,
   "metadata": {},
   "outputs": [],
   "source": [
    "\n"
   ]
  }
 ],
 "metadata": {
  "kernelspec": {
   "display_name": "Python 3",
   "language": "python",
   "name": "python3"
  },
  "language_info": {
   "codemirror_mode": {
    "name": "ipython",
    "version": 3
   },
   "file_extension": ".py",
   "mimetype": "text/x-python",
   "name": "python",
   "nbconvert_exporter": "python",
   "pygments_lexer": "ipython3",
   "version": "3.11.6"
  }
 },
 "nbformat": 4,
 "nbformat_minor": 2
}
